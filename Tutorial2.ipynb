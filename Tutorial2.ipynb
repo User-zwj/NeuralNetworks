{
 "cells": [
  {
   "cell_type": "markdown",
   "metadata": {},
   "source": [
    "# Setup a neural network using TensorFlow2.x\n",
    "\n",
    "In this tutorial, we will start using TensorFlow to build our very first neural network.\n",
    "\n",
    "We will also talk about the compiling and fitting processes, how to save and load model to save time for next time."
   ]
  },
  {
   "cell_type": "code",
   "execution_count": 1,
   "metadata": {},
   "outputs": [],
   "source": [
    "# ! pip install tensorflow --upgrade"
   ]
  },
  {
   "cell_type": "code",
   "execution_count": 2,
   "metadata": {},
   "outputs": [],
   "source": [
    "import numpy as np\n",
    "import tensorflow as tf\n",
    "from tensorflow.keras import Sequential\n",
    "from tensorflow.keras.layers import Dense"
   ]
  },
  {
   "cell_type": "markdown",
   "metadata": {},
   "source": [
    "## 4 ways to build the network\n",
    "\n",
    "We introduce four ways as a demonstration to build the most simple neural network without using any activation function or speical structure.\n",
    "\n",
    "The following methods are all for fully connected neural networks. Check https://www.tensorflow.org/api_docs/python/tf/keras/layers if it is not fully connected.\n",
    "\n",
    "**Example** (Not fully connected model)\n",
    "\n",
    "        input1 = tf.keras.layers.Input(shape=(16,))\n",
    "        x1 = tf.keras.layers.Dense(8, activation='relu')(input1)\n",
    "        input2 = tf.keras.layers.Input(shape=(32,))\n",
    "        x2 = tf.keras.layers.Dense(8, activation='relu')(input2)\n",
    "        avg = tf.keras.layers.Average()([x1, x2])\n",
    "        out = tf.keras.layers.Dense(4)(avg)\n",
    "        model0 = tf.keras.models.Model(inputs=[input1, input2], outputs=out)\n",
    "\n",
    "https://www.tensorflow.org/api_docs/python/tf/keras/layers/Average#example\n",
    "\n",
    "Since TensorFlow will randomly initialize all the parameter values when you construct a model, `model.weights` will return different values each time you run it. To initalize the model with the same values, you can use `tf.random.set_seed(1234)` at the begining to"
   ]
  },
  {
   "cell_type": "code",
   "execution_count": 3,
   "metadata": {},
   "outputs": [
    {
     "name": "stdout",
     "output_type": "stream",
     "text": [
      "Model: \"sequential\"\n",
      "_________________________________________________________________\n",
      "Layer (type)                 Output Shape              Param #   \n",
      "=================================================================\n",
      "dense (Dense)                (None, 10)                90        \n",
      "_________________________________________________________________\n",
      "dense_1 (Dense)              (None, 8)                 88        \n",
      "_________________________________________________________________\n",
      "dense_2 (Dense)              (None, 3)                 27        \n",
      "_________________________________________________________________\n",
      "dense_3 (Dense)              (None, 1)                 4         \n",
      "=================================================================\n",
      "Total params: 209\n",
      "Trainable params: 209\n",
      "Non-trainable params: 0\n",
      "_________________________________________________________________\n"
     ]
    }
   ],
   "source": [
    "## Method 1\n",
    "## define NN with 3 hidden layers\n",
    "## input:8 -> 10 -> 8 -> 3 -> output:1\n",
    "model1 = Sequential()\n",
    "model1.add(Dense(10, input_shape=(8,)))  #or input_dim=8\n",
    "model1.add(Dense(8))  #activation='sigmoid'\n",
    "model1.add(Dense(3))\n",
    "model1.add(Dense(1))\n",
    "\n",
    "# model.weights   #return the weights and biases (randomly initialized by TensorFlow)\n",
    "model1.summary()   #summary of the structure of the neural network"
   ]
  },
  {
   "cell_type": "code",
   "execution_count": 4,
   "metadata": {},
   "outputs": [
    {
     "name": "stdout",
     "output_type": "stream",
     "text": [
      "Model: \"sequential_1\"\n",
      "_________________________________________________________________\n",
      "Layer (type)                 Output Shape              Param #   \n",
      "=================================================================\n",
      "dense_4 (Dense)              (None, 10)                90        \n",
      "_________________________________________________________________\n",
      "dense_5 (Dense)              (None, 8)                 88        \n",
      "_________________________________________________________________\n",
      "dense_6 (Dense)              (None, 3)                 27        \n",
      "_________________________________________________________________\n",
      "dense_7 (Dense)              (None, 1)                 4         \n",
      "=================================================================\n",
      "Total params: 209\n",
      "Trainable params: 209\n",
      "Non-trainable params: 0\n",
      "_________________________________________________________________\n"
     ]
    }
   ],
   "source": [
    "## Method 2\n",
    "## define NN with 3 hidden layers\n",
    "## input:8 -> 10 -> 8 -> 3 -> output:1\n",
    "model2 = Sequential()\n",
    "model2.add(tf.keras.Input(shape=(8,)))\n",
    "model2.add(Dense(10))\n",
    "model2.add(Dense(8))\n",
    "model2.add(Dense(3))\n",
    "model2.add(Dense(1))\n",
    "\n",
    "# model1 == model2\n",
    "model2.summary()"
   ]
  },
  {
   "cell_type": "code",
   "execution_count": 5,
   "metadata": {},
   "outputs": [
    {
     "name": "stdout",
     "output_type": "stream",
     "text": [
      "Model: \"sequential_2\"\n",
      "_________________________________________________________________\n",
      "Layer (type)                 Output Shape              Param #   \n",
      "=================================================================\n",
      "dense_8 (Dense)              (None, 10)                90        \n",
      "_________________________________________________________________\n",
      "dense_9 (Dense)              (None, 8)                 88        \n",
      "_________________________________________________________________\n",
      "dense_10 (Dense)             (None, 3)                 27        \n",
      "_________________________________________________________________\n",
      "dense_11 (Dense)             (None, 1)                 4         \n",
      "=================================================================\n",
      "Total params: 209\n",
      "Trainable params: 209\n",
      "Non-trainable params: 0\n",
      "_________________________________________________________________\n"
     ]
    }
   ],
   "source": [
    "## Method 3\n",
    "## define NN with 3 hidden layers\n",
    "## input:8 -> 10 -> 8 -> 3 -> output:1\n",
    "model3 = Sequential()\n",
    "model3.add(Dense(10))\n",
    "model3.add(Dense(8))\n",
    "model3.add(Dense(3))\n",
    "model3.add(Dense(1))       #if no input_dim, model.weights no values\n",
    "model3.build((None,8))\n",
    "\n",
    "model3.summary()"
   ]
  },
  {
   "cell_type": "code",
   "execution_count": 6,
   "metadata": {},
   "outputs": [
    {
     "name": "stdout",
     "output_type": "stream",
     "text": [
      "Model: \"model\"\n",
      "_________________________________________________________________\n",
      "Layer (type)                 Output Shape              Param #   \n",
      "=================================================================\n",
      "input_2 (InputLayer)         [(None, 8)]               0         \n",
      "_________________________________________________________________\n",
      "dense_12 (Dense)             (None, 10)                90        \n",
      "_________________________________________________________________\n",
      "dense_13 (Dense)             (None, 8)                 88        \n",
      "_________________________________________________________________\n",
      "dense_14 (Dense)             (None, 3)                 27        \n",
      "_________________________________________________________________\n",
      "dense_15 (Dense)             (None, 1)                 4         \n",
      "=================================================================\n",
      "Total params: 209\n",
      "Trainable params: 209\n",
      "Non-trainable params: 0\n",
      "_________________________________________________________________\n"
     ]
    }
   ],
   "source": [
    "## Method 4\n",
    "## example of a model defined with the functional api\n",
    "## input:8 -> 10 -> 8 -> 3 -> output:1\n",
    "x_in = tf.keras.Input(shape=(8,))\n",
    "x1 = Dense(10)(x_in)\n",
    "x2 = Dense(8)(x1)\n",
    "x3 = Dense(3)(x2)\n",
    "x_out = Dense(1)(x3)\n",
    "model4 = tf.keras.Model(inputs=x_in, outputs=x_out)    \n",
    "\n",
    "model4.summary()"
   ]
  },
  {
   "cell_type": "code",
   "execution_count": 7,
   "metadata": {},
   "outputs": [
    {
     "data": {
      "text/plain": [
       "[]"
      ]
     },
     "execution_count": 7,
     "metadata": {},
     "output_type": "execute_result"
    }
   ],
   "source": [
    "model1.metrics_names    #Note: metrics_names are available only after a keras.Model has been trained/evaluated on actual data."
   ]
  },
  {
   "cell_type": "markdown",
   "metadata": {},
   "source": [
    "## Train the neural network\n",
    "\n",
    "After we constructed our first neural network, we will need to feed it with our training data to train the model. There are two steps needed, compile and fit. "
   ]
  },
  {
   "cell_type": "markdown",
   "metadata": {},
   "source": [
    "### Step 1: compile\n",
    "\n",
    "    compile(\n",
    "        optimizer='rmsprop', loss=None, metrics=None, loss_weights=None,\n",
    "        weighted_metrics=None, run_eagerly=None, steps_per_execution=None, **kwargs\n",
    "    )\n",
    "\n",
    "eg.\n",
    "\n",
    "    model.compile(optimizer=\"Adam\", loss=\"mse\", metrics=['accuracy', 'mse'])\n",
    "    model.metrics_names   \n",
    "    \n",
    "https://www.tensorflow.org/api_docs/python/tf/keras/Model#compile\n",
    "\n",
    "**- optimizer**\n",
    "\n",
    "Specify the algorithm to approximate that is used to find the minimum of the loss function.\n",
    "\n",
    "- `tf.keras.optimizers.Adam` or `Adam` https://www.tensorflow.org/api_docs/python/tf/keras/optimizers/Adam\n",
    "\n",
    "check https://www.tensorflow.org/api_docs/python/tf/keras/optimizers for more optimizers\n",
    "\n",
    "**- loss**\n",
    "\n",
    "Loss function is used to measure the difference between predict and truth. The training process is trying to minimize this value.\n",
    "\n",
    "- `'mean_absolute_error'` https://www.tensorflow.org/api_docs/python/tf/keras/losses/MeanAbsoluteError\n",
    "- `'mean_squared_error'`  https://www.tensorflow.org/api_docs/python/tf/keras/losses/MeanSquaredError\n",
    "- `'categorical_crossentropy'` https://www.tensorflow.org/api_docs/python/tf/keras/losses/CategoricalCrossentropy\n",
    "\n",
    "check https://www.tensorflow.org/api_docs/python/tf/keras/losses for more loss functions"
   ]
  },
  {
   "cell_type": "markdown",
   "metadata": {},
   "source": [
    "### Step 2: fit\n",
    "\n",
    "    fit(\n",
    "        x=None, y=None, batch_size=None, epochs=1, verbose=1, callbacks=None,\n",
    "        validation_split=0.0, validation_data=None, shuffle=True, class_weight=None,\n",
    "        sample_weight=None, initial_epoch=0, steps_per_epoch=None,\n",
    "        validation_steps=None, validation_batch_size=None, validation_freq=1,\n",
    "        max_queue_size=10, workers=1, use_multiprocessing=False\n",
    "    )\n",
    "    \n",
    "https://www.tensorflow.org/api_docs/python/tf/keras/Model#fit\n",
    "\n",
    "**- batch_size:** Total number of training examples present in a single batch.\n",
    "\n",
    "**- epochs** (times the model sees the data): The number of passes of training data\n",
    "\n",
    "**- verbose** 0, 1, or 2. Verbosity mode. 0 = silent, 1 = progress bar, 2 = one line per epoch."
   ]
  },
  {
   "cell_type": "markdown",
   "metadata": {},
   "source": [
    "We take `model1` as an example to demonstrate how to train a model as follows."
   ]
  },
  {
   "cell_type": "code",
   "execution_count": 8,
   "metadata": {},
   "outputs": [],
   "source": [
    "## training data\n",
    "size = 500\n",
    "train_x = np.random.normal(0,1,(size,8))\n",
    "train_y = np.random.normal(0,1,(size,1))"
   ]
  },
  {
   "cell_type": "code",
   "execution_count": 9,
   "metadata": {
    "scrolled": true
   },
   "outputs": [
    {
     "data": {
      "text/plain": [
       "<tensorflow.python.keras.callbacks.History at 0x7f04eddd3f10>"
      ]
     },
     "execution_count": 9,
     "metadata": {},
     "output_type": "execute_result"
    }
   ],
   "source": [
    "model1.compile(loss='mean_squared_error', optimizer=tf.keras.optimizers.Adam(0.01))\n",
    "model1.fit(train_x,train_y,epochs=1500,verbose=0)"
   ]
  },
  {
   "cell_type": "code",
   "execution_count": 10,
   "metadata": {
    "scrolled": true
   },
   "outputs": [
    {
     "data": {
      "text/plain": [
       "['loss']"
      ]
     },
     "execution_count": 10,
     "metadata": {},
     "output_type": "execute_result"
    }
   ],
   "source": [
    "model1.metrics_names   #Note: metrics_names are available only after a keras.Model has been trained/evaluated on actual data."
   ]
  },
  {
   "cell_type": "markdown",
   "metadata": {},
   "source": [
    "## Activation function\n",
    "\n",
    "In the models we constructed above, we didn't specifiy any activation function, now we will have a short discussion here about it. After adding activation function during construction process, the following training process is the same.\n",
    "\n",
    "check https://www.tensorflow.org/api_docs/python/tf/keras/activations\n",
    "\n",
    "eg.\n",
    "\n",
    "    model = Sequential()\n",
    "    model.add(Dense(5,activation='sigmoid',input_dim=1))\n",
    "    model.add(Dense(3,activation='relu'))\n",
    "    model.add(Dense(1))\n",
    "    \n",
    "The purpose of the activation function is to introduce non-linearity into the output of a neuron. \n",
    "- Activation functions have a major effect on the neural network’s ability to converge and the convergence speed, or in some cases, activation functions might prevent neural networks from converging in the first place \n",
    "- The activation function is a mathematical “gate” in between the input feeding the current neuron and its output going to the next layer. \n",
    "- Non-linear activation functions can help the network learn complex data, compute and learn almost any function representing a question\n",
    "\n",
    "The activation function is attached to each neuron in the network, and determines whether it should be activated (“fired”) or not, based on whether each neuron’s input is relevant for the model’s prediction. Activation functions also help normalize the output of each neuron to a range between 1 and 0 or between -1 and 1. An additional aspect of activation functions is that they must be computationally efficient because they are calculated across thousands or even millions of neurons for each data sample."
   ]
  },
  {
   "cell_type": "markdown",
   "metadata": {},
   "source": [
    "## Attributes and Methods\n",
    "\n",
    "We have covered the process of building and training a neural network. Now we will talk about some commonly-used attributes and methods of the model."
   ]
  },
  {
   "cell_type": "code",
   "execution_count": 14,
   "metadata": {},
   "outputs": [
    {
     "data": {
      "text/plain": [
       "True"
      ]
     },
     "execution_count": 14,
     "metadata": {},
     "output_type": "execute_result"
    }
   ],
   "source": [
    "## model1.weights and model1.trainable_variables are the same for the above model.\n",
    "\n",
    "model1.weights == model1.trainable_variables"
   ]
  },
  {
   "cell_type": "code",
   "execution_count": 15,
   "metadata": {},
   "outputs": [
    {
     "data": {
      "text/plain": [
       "[<tf.Variable 'dense/kernel:0' shape=(8, 10) dtype=float32, numpy=\n",
       " array([[-4.7745174e-03, -4.2704954e-03,  2.0147045e-03, -6.0886233e-03,\n",
       "          1.6906815e-04,  2.9910391e-03, -1.2138552e-02,  3.9200662e-03,\n",
       "          9.7083038e-04,  7.8460521e-01],\n",
       "        [ 1.5564065e-04, -4.9153781e-03,  5.1136962e-03, -2.8920257e-03,\n",
       "          2.2271478e-03,  1.7226229e-03,  8.3738118e-03,  2.4565703e-03,\n",
       "         -1.5089725e-03,  1.2535113e+00],\n",
       "        [-3.8777268e-04, -2.9222372e-03,  6.7038345e-06,  4.1895998e-03,\n",
       "          4.2966832e-03, -5.6971674e-04,  1.0847520e-02, -5.1253634e-03,\n",
       "          1.1978279e-02, -5.0348192e-01],\n",
       "        [ 1.6874436e-03, -1.5508595e-03,  2.1394780e-03, -1.0563543e-03,\n",
       "          5.0894222e-03, -4.9723790e-04,  6.3263075e-03, -1.1619112e-03,\n",
       "          2.2266451e-02, -4.8005381e-01],\n",
       "        [-6.8500419e-03, -6.9415063e-04, -7.9676770e-03, -8.6388607e-03,\n",
       "          2.9368100e-03, -5.4954947e-04, -4.4616669e-02,  3.6588751e-03,\n",
       "          4.3160364e-02, -9.6152526e-01],\n",
       "        [ 9.4094407e-03, -8.9300368e-03,  1.7354518e-02,  3.4303269e-03,\n",
       "          8.9213355e-03,  1.8260462e-03,  6.0392465e-02, -3.7092536e-03,\n",
       "         -1.2123023e-02,  3.2583442e-01],\n",
       "        [-5.9387786e-03,  1.2400638e-02, -2.6780754e-02, -7.2189525e-04,\n",
       "         -1.4138363e-02, -8.3298488e-03, -8.0208711e-02,  1.5652748e-03,\n",
       "         -7.2468556e-03, -5.2984840e-01],\n",
       "        [-1.9919792e-02,  1.7081356e-02, -2.8013261e-02, -9.3168663e-03,\n",
       "         -1.7722011e-02,  9.1942446e-04, -1.0095567e-01,  7.9141464e-03,\n",
       "         -3.3312779e-02,  9.3696219e-01]], dtype=float32)>,\n",
       " <tf.Variable 'dense/bias:0' shape=(10,) dtype=float32, numpy=\n",
       " array([-0.00090622,  0.00225138, -0.00137449, -0.00284359, -0.00196443,\n",
       "         0.00044105, -0.00880217,  0.00367871, -0.00408877, -0.0355053 ],\n",
       "       dtype=float32)>,\n",
       " <tf.Variable 'dense_1/kernel:0' shape=(10, 8) dtype=float32, numpy=\n",
       " array([[ 1.6610695e-02, -4.4616457e-02, -1.2056253e-02,  5.4629697e-03,\n",
       "         -2.7306316e-02, -9.1774873e-03, -2.3510750e-02, -1.5505937e-02],\n",
       "        [-3.4485850e-03, -7.7643790e-03,  1.1894311e-02, -5.2842690e-04,\n",
       "         -5.2427586e-02,  3.5107672e-02,  5.3701889e-02,  6.2181547e-02],\n",
       "        [-1.7028207e-02,  3.5473768e-02,  7.4953502e-03,  7.4057723e-04,\n",
       "         -1.8160915e-02,  3.2050315e-02,  5.2546160e-03, -3.5252605e-02],\n",
       "        [ 2.1062141e-02,  6.6266587e-04, -8.4110899e-03,  5.1781354e-03,\n",
       "         -1.9828081e-02, -6.5315098e-02, -2.7929280e-02, -2.8300490e-02],\n",
       "        [-2.1472001e-02, -1.2813461e-01,  2.7740786e-03,  1.1994856e-03,\n",
       "         -5.1354099e-02,  4.0713474e-02,  1.9818749e-02, -5.3021036e-02],\n",
       "        [-1.0057427e-02,  1.3237772e-02, -6.4307638e-03, -3.3999379e-03,\n",
       "         -1.3645886e-02,  2.3460636e-02,  3.4027193e-02,  1.6360048e-03],\n",
       "        [-2.9350813e-02,  9.9163130e-03,  9.5371269e-03,  1.9868432e-02,\n",
       "         -1.0142738e-02,  2.3424421e-02,  6.5723337e-02, -3.0404568e-02],\n",
       "        [ 1.8207254e-02,  3.4970853e-02, -3.7737746e-02, -2.3302163e-03,\n",
       "          1.9947046e-02,  2.4072958e-02, -7.1173753e-03,  3.3852351e-03],\n",
       "        [ 4.4220746e-03, -1.9076800e-02,  2.1700609e-02,  2.3708069e-03,\n",
       "         -9.5671816e-03, -3.4933933e-03, -6.3254600e-03, -8.0997832e-03],\n",
       "        [-4.2060259e-04, -5.4643146e-04,  4.1923579e-04,  7.0979613e-01,\n",
       "         -5.0489826e-04,  2.5876346e-03,  1.6136379e-03, -2.1638053e-03]],\n",
       "       dtype=float32)>,\n",
       " <tf.Variable 'dense_1/bias:0' shape=(8,) dtype=float32, numpy=\n",
       " array([-1.4262497e-05, -3.3091151e-04,  6.2239333e-04, -6.1032824e-02,\n",
       "         1.8185183e-05,  2.0832885e-03,  1.5743576e-03, -6.9828762e-04],\n",
       "       dtype=float32)>,\n",
       " <tf.Variable 'dense_2/kernel:0' shape=(8, 3) dtype=float32, numpy=\n",
       " array([[-1.6414206e-02,  3.2459229e-02, -5.2838470e-04],\n",
       "        [-6.3802660e-02, -2.3032866e-02, -6.1672286e-04],\n",
       "        [ 5.3341020e-02, -6.5274753e-02,  5.0605828e-04],\n",
       "        [-2.1313810e-04,  6.4152904e-04,  4.0123427e-01],\n",
       "        [ 4.9233299e-02, -3.6553152e-02, -1.6180574e-04],\n",
       "        [ 2.4321323e-02,  3.7152902e-03, -2.0321668e-03],\n",
       "        [-4.1671567e-02,  4.7291648e-02, -4.2041513e-04],\n",
       "        [-1.0840869e-02, -9.0852536e-02, -1.6503409e-04]], dtype=float32)>,\n",
       " <tf.Variable 'dense_2/bias:0' shape=(3,) dtype=float32, numpy=array([-0.00055232,  0.00057546, -0.01981586], dtype=float32)>,\n",
       " <tf.Variable 'dense_3/kernel:0' shape=(3, 1) dtype=float32, numpy=\n",
       " array([[ 1.4687005e-04],\n",
       "        [-6.5220369e-04],\n",
       "        [ 1.9679068e-01]], dtype=float32)>,\n",
       " <tf.Variable 'dense_3/bias:0' shape=(1,) dtype=float32, numpy=array([-0.03459695], dtype=float32)>]"
      ]
     },
     "execution_count": 15,
     "metadata": {},
     "output_type": "execute_result"
    }
   ],
   "source": [
    "## print out the weights as a list of Variable objects.\n",
    "## You can use indexing `model1.weights[i]` to print the specific parameter values\n",
    "model1.weights    #A list of Variable objects."
   ]
  },
  {
   "cell_type": "code",
   "execution_count": 16,
   "metadata": {},
   "outputs": [
    {
     "data": {
      "text/plain": [
       "[array([[-4.7745174e-03, -4.2704954e-03,  2.0147045e-03, -6.0886233e-03,\n",
       "          1.6906815e-04,  2.9910391e-03, -1.2138552e-02,  3.9200662e-03,\n",
       "          9.7083038e-04,  7.8460521e-01],\n",
       "        [ 1.5564065e-04, -4.9153781e-03,  5.1136962e-03, -2.8920257e-03,\n",
       "          2.2271478e-03,  1.7226229e-03,  8.3738118e-03,  2.4565703e-03,\n",
       "         -1.5089725e-03,  1.2535113e+00],\n",
       "        [-3.8777268e-04, -2.9222372e-03,  6.7038345e-06,  4.1895998e-03,\n",
       "          4.2966832e-03, -5.6971674e-04,  1.0847520e-02, -5.1253634e-03,\n",
       "          1.1978279e-02, -5.0348192e-01],\n",
       "        [ 1.6874436e-03, -1.5508595e-03,  2.1394780e-03, -1.0563543e-03,\n",
       "          5.0894222e-03, -4.9723790e-04,  6.3263075e-03, -1.1619112e-03,\n",
       "          2.2266451e-02, -4.8005381e-01],\n",
       "        [-6.8500419e-03, -6.9415063e-04, -7.9676770e-03, -8.6388607e-03,\n",
       "          2.9368100e-03, -5.4954947e-04, -4.4616669e-02,  3.6588751e-03,\n",
       "          4.3160364e-02, -9.6152526e-01],\n",
       "        [ 9.4094407e-03, -8.9300368e-03,  1.7354518e-02,  3.4303269e-03,\n",
       "          8.9213355e-03,  1.8260462e-03,  6.0392465e-02, -3.7092536e-03,\n",
       "         -1.2123023e-02,  3.2583442e-01],\n",
       "        [-5.9387786e-03,  1.2400638e-02, -2.6780754e-02, -7.2189525e-04,\n",
       "         -1.4138363e-02, -8.3298488e-03, -8.0208711e-02,  1.5652748e-03,\n",
       "         -7.2468556e-03, -5.2984840e-01],\n",
       "        [-1.9919792e-02,  1.7081356e-02, -2.8013261e-02, -9.3168663e-03,\n",
       "         -1.7722011e-02,  9.1942446e-04, -1.0095567e-01,  7.9141464e-03,\n",
       "         -3.3312779e-02,  9.3696219e-01]], dtype=float32),\n",
       " array([-0.00090622,  0.00225138, -0.00137449, -0.00284359, -0.00196443,\n",
       "         0.00044105, -0.00880217,  0.00367871, -0.00408877, -0.0355053 ],\n",
       "       dtype=float32),\n",
       " array([[ 1.6610695e-02, -4.4616457e-02, -1.2056253e-02,  5.4629697e-03,\n",
       "         -2.7306316e-02, -9.1774873e-03, -2.3510750e-02, -1.5505937e-02],\n",
       "        [-3.4485850e-03, -7.7643790e-03,  1.1894311e-02, -5.2842690e-04,\n",
       "         -5.2427586e-02,  3.5107672e-02,  5.3701889e-02,  6.2181547e-02],\n",
       "        [-1.7028207e-02,  3.5473768e-02,  7.4953502e-03,  7.4057723e-04,\n",
       "         -1.8160915e-02,  3.2050315e-02,  5.2546160e-03, -3.5252605e-02],\n",
       "        [ 2.1062141e-02,  6.6266587e-04, -8.4110899e-03,  5.1781354e-03,\n",
       "         -1.9828081e-02, -6.5315098e-02, -2.7929280e-02, -2.8300490e-02],\n",
       "        [-2.1472001e-02, -1.2813461e-01,  2.7740786e-03,  1.1994856e-03,\n",
       "         -5.1354099e-02,  4.0713474e-02,  1.9818749e-02, -5.3021036e-02],\n",
       "        [-1.0057427e-02,  1.3237772e-02, -6.4307638e-03, -3.3999379e-03,\n",
       "         -1.3645886e-02,  2.3460636e-02,  3.4027193e-02,  1.6360048e-03],\n",
       "        [-2.9350813e-02,  9.9163130e-03,  9.5371269e-03,  1.9868432e-02,\n",
       "         -1.0142738e-02,  2.3424421e-02,  6.5723337e-02, -3.0404568e-02],\n",
       "        [ 1.8207254e-02,  3.4970853e-02, -3.7737746e-02, -2.3302163e-03,\n",
       "          1.9947046e-02,  2.4072958e-02, -7.1173753e-03,  3.3852351e-03],\n",
       "        [ 4.4220746e-03, -1.9076800e-02,  2.1700609e-02,  2.3708069e-03,\n",
       "         -9.5671816e-03, -3.4933933e-03, -6.3254600e-03, -8.0997832e-03],\n",
       "        [-4.2060259e-04, -5.4643146e-04,  4.1923579e-04,  7.0979613e-01,\n",
       "         -5.0489826e-04,  2.5876346e-03,  1.6136379e-03, -2.1638053e-03]],\n",
       "       dtype=float32),\n",
       " array([-1.4262497e-05, -3.3091151e-04,  6.2239333e-04, -6.1032824e-02,\n",
       "         1.8185183e-05,  2.0832885e-03,  1.5743576e-03, -6.9828762e-04],\n",
       "       dtype=float32),\n",
       " array([[-1.6414206e-02,  3.2459229e-02, -5.2838470e-04],\n",
       "        [-6.3802660e-02, -2.3032866e-02, -6.1672286e-04],\n",
       "        [ 5.3341020e-02, -6.5274753e-02,  5.0605828e-04],\n",
       "        [-2.1313810e-04,  6.4152904e-04,  4.0123427e-01],\n",
       "        [ 4.9233299e-02, -3.6553152e-02, -1.6180574e-04],\n",
       "        [ 2.4321323e-02,  3.7152902e-03, -2.0321668e-03],\n",
       "        [-4.1671567e-02,  4.7291648e-02, -4.2041513e-04],\n",
       "        [-1.0840869e-02, -9.0852536e-02, -1.6503409e-04]], dtype=float32),\n",
       " array([-0.00055232,  0.00057546, -0.01981586], dtype=float32),\n",
       " array([[ 1.4687005e-04],\n",
       "        [-6.5220369e-04],\n",
       "        [ 1.9679068e-01]], dtype=float32),\n",
       " array([-0.03459695], dtype=float32)]"
      ]
     },
     "execution_count": 16,
     "metadata": {},
     "output_type": "execute_result"
    }
   ],
   "source": [
    "## Only print out the value\n",
    "model1.get_weights()         #A list of arrays, weights and biases every other term"
   ]
  },
  {
   "cell_type": "code",
   "execution_count": 17,
   "metadata": {},
   "outputs": [
    {
     "data": {
      "text/plain": [
       "[array([[ 1.4687005e-04],\n",
       "        [-6.5220369e-04],\n",
       "        [ 1.9679068e-01]], dtype=float32),\n",
       " array([-0.03459695], dtype=float32)]"
      ]
     },
     "execution_count": 17,
     "metadata": {},
     "output_type": "execute_result"
    }
   ],
   "source": [
    "## Return the weights and biases for a specified layer\n",
    "model1.layers[3].get_weights()"
   ]
  },
  {
   "cell_type": "code",
   "execution_count": 18,
   "metadata": {},
   "outputs": [
    {
     "data": {
      "text/plain": [
       "array([[ 0.25113365],\n",
       "       [-0.10175361],\n",
       "       [-0.17832017],\n",
       "       [-0.07764949],\n",
       "       [ 0.20510267],\n",
       "       [-0.12055007],\n",
       "       [ 0.05584735],\n",
       "       [-0.05570502],\n",
       "       [ 0.07623062],\n",
       "       [-0.06173233]], dtype=float32)"
      ]
     },
     "execution_count": 18,
     "metadata": {},
     "output_type": "execute_result"
    }
   ],
   "source": [
    "## model prediction  #https://www.tensorflow.org/api_docs/python/tf/keras/Model#predict\n",
    "x = np.random.normal(size=(10,8))\n",
    "model1.predict(x)"
   ]
  },
  {
   "cell_type": "markdown",
   "metadata": {},
   "source": [
    "## save and load model\n",
    "\n",
    "It is important to know how to save and load a given model especially when the model is expensive to train twice or you want to reuse the model later.\n",
    "\n",
    "https://www.tensorflow.org/guide/keras/save_and_serialize\n",
    "\n",
    "Keras also supports saving a single HDF5 file containing the model's architecture, weights values, and `compile()` information. It is a light-weight alternative to SavedModel.\n",
    "\n",
    "https://www.tensorflow.org/guide/keras/save_and_serialize#keras_h5_format"
   ]
  },
  {
   "cell_type": "code",
   "execution_count": 19,
   "metadata": {},
   "outputs": [
    {
     "name": "stdout",
     "output_type": "stream",
     "text": [
      "INFO:tensorflow:Assets written to: Model/model1/assets\n"
     ]
    }
   ],
   "source": [
    "## save model\n",
    "model1.save('Model/model1') #or tf.keras.models.save_model()"
   ]
  },
  {
   "cell_type": "code",
   "execution_count": 20,
   "metadata": {},
   "outputs": [
    {
     "data": {
      "text/plain": [
       "array([[ 0.25113365],\n",
       "       [-0.10175361],\n",
       "       [-0.17832017],\n",
       "       [-0.07764949],\n",
       "       [ 0.20510267],\n",
       "       [-0.12055007],\n",
       "       [ 0.05584735],\n",
       "       [-0.05570502],\n",
       "       [ 0.07623062],\n",
       "       [-0.06173233]], dtype=float32)"
      ]
     },
     "execution_count": 20,
     "metadata": {},
     "output_type": "execute_result"
    }
   ],
   "source": [
    "## load model\n",
    "model_load = tf.keras.models.load_model('Model/model1')\n",
    "model_load.predict(x)   ##just for testing"
   ]
  },
  {
   "cell_type": "code",
   "execution_count": 21,
   "metadata": {},
   "outputs": [],
   "source": [
    "## save weights\n",
    "model1.save_weights('Model/model1_weights')    #3 files"
   ]
  },
  {
   "cell_type": "code",
   "execution_count": 22,
   "metadata": {},
   "outputs": [
    {
     "data": {
      "text/plain": [
       "<tensorflow.python.training.tracking.util.CheckpointLoadStatus at 0x7f04e444e820>"
      ]
     },
     "execution_count": 22,
     "metadata": {},
     "output_type": "execute_result"
    }
   ],
   "source": [
    "## To use load_weights(), you first need to have a model with the same structure\n",
    "model2 = Sequential()\n",
    "model2.add(Dense(10, input_shape=(8,)))  #or input_dim=8\n",
    "model2.add(Dense(8))  #activation='sigmoid'\n",
    "model2.add(Dense(3))\n",
    "model2.add(Dense(1))\n",
    "\n",
    "model2.load_weights('Model/model1_weights') "
   ]
  },
  {
   "cell_type": "code",
   "execution_count": 23,
   "metadata": {},
   "outputs": [
    {
     "data": {
      "text/plain": [
       "array([[ 0.25113365],\n",
       "       [-0.10175361],\n",
       "       [-0.17832017],\n",
       "       [-0.07764949],\n",
       "       [ 0.20510267],\n",
       "       [-0.12055007],\n",
       "       [ 0.05584735],\n",
       "       [-0.05570502],\n",
       "       [ 0.07623062],\n",
       "       [-0.06173233]], dtype=float32)"
      ]
     },
     "execution_count": 23,
     "metadata": {},
     "output_type": "execute_result"
    }
   ],
   "source": [
    "model2.predict(x)   ##just for testing"
   ]
  },
  {
   "cell_type": "code",
   "execution_count": 24,
   "metadata": {},
   "outputs": [],
   "source": [
    "## To save time constructing the model, we can also do the following\n",
    "\n",
    "def build_model():\n",
    "    model = Sequential()\n",
    "\n",
    "    model.add(Dense(10, input_shape=(8,)))\n",
    "    model.add(Dense(8))\n",
    "    model.add(Dense(3))\n",
    "    model.add(Dense(1))\n",
    "\n",
    "    # you can either compile or not the model\n",
    "    model.compile(loss='mse', optimizer='Adam', metrics=['accuracy'])\n",
    "    return model"
   ]
  },
  {
   "cell_type": "code",
   "execution_count": 25,
   "metadata": {},
   "outputs": [
    {
     "data": {
      "text/plain": [
       "array([[ 0.25113365],\n",
       "       [-0.10175361],\n",
       "       [-0.17832017],\n",
       "       [-0.07764949],\n",
       "       [ 0.20510267],\n",
       "       [-0.12055007],\n",
       "       [ 0.05584735],\n",
       "       [-0.05570502],\n",
       "       [ 0.07623062],\n",
       "       [-0.06173233]], dtype=float32)"
      ]
     },
     "execution_count": 25,
     "metadata": {},
     "output_type": "execute_result"
    }
   ],
   "source": [
    "model2 = build_model()\n",
    "model2.load_weights('Model/model1_weights') \n",
    "model2.predict(x)"
   ]
  },
  {
   "cell_type": "code",
   "execution_count": null,
   "metadata": {},
   "outputs": [],
   "source": []
  },
  {
   "cell_type": "markdown",
   "metadata": {},
   "source": [
    "Example"
   ]
  },
  {
   "cell_type": "code",
   "execution_count": null,
   "metadata": {},
   "outputs": [],
   "source": [
    "#work/python/keras maybe??"
   ]
  },
  {
   "cell_type": "code",
   "execution_count": null,
   "metadata": {},
   "outputs": [],
   "source": [
    "#work/DNN/NN-tf   Iris problem"
   ]
  },
  {
   "cell_type": "code",
   "execution_count": null,
   "metadata": {},
   "outputs": [],
   "source": [
    "#work/DNN/Comparison-Copy1"
   ]
  },
  {
   "cell_type": "code",
   "execution_count": null,
   "metadata": {},
   "outputs": [],
   "source": [
    "#work/DNN/Comparison-activation"
   ]
  }
 ],
 "metadata": {
  "kernelspec": {
   "display_name": "Python 3",
   "language": "python",
   "name": "python3"
  },
  "language_info": {
   "codemirror_mode": {
    "name": "ipython",
    "version": 3
   },
   "file_extension": ".py",
   "mimetype": "text/x-python",
   "name": "python",
   "nbconvert_exporter": "python",
   "pygments_lexer": "ipython3",
   "version": "3.8.6"
  }
 },
 "nbformat": 4,
 "nbformat_minor": 4
}
