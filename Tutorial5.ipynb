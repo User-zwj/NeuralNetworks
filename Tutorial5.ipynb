{
 "cells": [
  {
   "cell_type": "markdown",
   "metadata": {},
   "source": [
    "# Solve ODE/PDE"
   ]
  },
  {
   "cell_type": "code",
   "execution_count": null,
   "metadata": {},
   "outputs": [],
   "source": [
    "# solve ODE\n",
    "\n",
    "#work/DNN/ODE-tf/tf2 vs tf1 (eg from stack)\n",
    "two examples there\n",
    "\n",
    "#work/DNN/ODE-tf/pdes\n",
    "raindrop\n",
    "\n",
    "#work/DNN/ODE-tf/tf_keras_tfp_lbfgs_test\n",
    "use lbfgs optimizer"
   ]
  },
  {
   "cell_type": "code",
   "execution_count": 2,
   "metadata": {},
   "outputs": [],
   "source": [
    "# ! pip install tensorflow --upgrade"
   ]
  },
  {
   "cell_type": "code",
   "execution_count": 3,
   "metadata": {},
   "outputs": [],
   "source": [
    "# Load modules\n",
    "import tensorflow as tf\n",
    "import numpy as np\n",
    "import math, random\n",
    "import matplotlib.pyplot as plt\n",
    "from scipy import special"
   ]
  },
  {
   "cell_type": "code",
   "execution_count": 4,
   "metadata": {},
   "outputs": [
    {
     "data": {
      "text/plain": [
       "'2.4.1'"
      ]
     },
     "execution_count": 4,
     "metadata": {},
     "output_type": "execute_result"
    }
   ],
   "source": [
    "tf.__version__"
   ]
  },
  {
   "cell_type": "markdown",
   "metadata": {},
   "source": [
    "## Example1\n",
    "https://datascience.stackexchange.com/questions/45015/solving-an-ode-using-neural-networks-via-tensorflow\n",
    "\n",
    "\n",
    "$$\n",
    "u''(x) - x u(x) = 0\\\\\n",
    "u(0) = A\\\\\n",
    "u'(0) = B\n",
    "$$\n",
    "\n",
    "Assume $u=A+Bx+x^2N$, then\n",
    "$$\n",
    "x^2 N'' + 4xN' + 2N - x(A+Bx+x^2N) = 0\n",
    "$$\n"
   ]
  },
  {
   "cell_type": "code",
   "execution_count": 5,
   "metadata": {},
   "outputs": [
    {
     "name": "stdout",
     "output_type": "stream",
     "text": [
      "Epoch 0 completed out of 400 loss: 541.5339339822531\n",
      "Epoch 10 completed out of 400 loss: 72.57017722725868\n",
      "Epoch 20 completed out of 400 loss: 56.49665007740259\n",
      "Epoch 30 completed out of 400 loss: 39.758674941957\n",
      "Epoch 40 completed out of 400 loss: 26.051544431596994\n",
      "Epoch 50 completed out of 400 loss: 16.46857935935259\n",
      "Epoch 60 completed out of 400 loss: 11.967990882694721\n",
      "Epoch 70 completed out of 400 loss: 9.592525318264961\n",
      "Epoch 80 completed out of 400 loss: 7.76292515732348\n",
      "Epoch 90 completed out of 400 loss: 9.594516472890973\n",
      "Epoch 100 completed out of 400 loss: 7.866849514655769\n",
      "Epoch 110 completed out of 400 loss: 7.616507928818464\n",
      "Epoch 120 completed out of 400 loss: 6.33529307693243\n",
      "Epoch 130 completed out of 400 loss: 5.55649605486542\n",
      "Epoch 140 completed out of 400 loss: 6.322697093710303\n",
      "Epoch 150 completed out of 400 loss: 4.863926185294986\n",
      "Epoch 160 completed out of 400 loss: 4.8113371739163995\n",
      "Epoch 170 completed out of 400 loss: 3.8347114957869053\n",
      "Epoch 180 completed out of 400 loss: 3.370982687920332\n",
      "Epoch 190 completed out of 400 loss: 4.321861052885652\n",
      "Epoch 200 completed out of 400 loss: 2.8997028646990657\n",
      "Epoch 210 completed out of 400 loss: 2.836875638924539\n",
      "Epoch 220 completed out of 400 loss: 3.042489154264331\n",
      "Epoch 230 completed out of 400 loss: 2.599624525755644\n",
      "Epoch 240 completed out of 400 loss: 1.8515882845968008\n",
      "Epoch 250 completed out of 400 loss: 1.6151015844661742\n",
      "Epoch 260 completed out of 400 loss: 1.6222910906653851\n",
      "Epoch 270 completed out of 400 loss: 1.3724588529439643\n",
      "Epoch 280 completed out of 400 loss: 1.7004287105519325\n",
      "Epoch 290 completed out of 400 loss: 1.9175965114263818\n",
      "Epoch 300 completed out of 400 loss: 1.348013212904334\n",
      "Epoch 310 completed out of 400 loss: 1.0743088049348444\n",
      "Epoch 320 completed out of 400 loss: 1.1340627744793892\n",
      "Epoch 330 completed out of 400 loss: 2.0387969398871064\n",
      "Epoch 340 completed out of 400 loss: 0.9182312292978168\n",
      "Epoch 350 completed out of 400 loss: 4.6039954263251275\n",
      "Epoch 360 completed out of 400 loss: 1.6242291433736682\n",
      "Epoch 370 completed out of 400 loss: 0.6096801331732422\n",
      "Epoch 380 completed out of 400 loss: 4.048458631616086\n",
      "Epoch 390 completed out of 400 loss: 0.43007124337600544\n"
     ]
    },
    {
     "data": {
      "image/png": "[encoded data removed]",
      "text/plain": [
       "<Figure size 432x288 with 1 Axes>"
      ]
     },
     "metadata": {
      "needs_background": "light"
     },
     "output_type": "display_data"
    }
   ],
   "source": [
    "######################################################################\n",
    "# Routine to solve u''(x) - x*u(x) = f(x), u(0)=A, u'(0)=B in the form\n",
    "#     u(x) = A + B*x + x^2*N(x,w)\n",
    "# where N(x,w) is the output of the neural network.\n",
    "######################################################################\n",
    "\n",
    "# Create the arrays x and y, where x is a discretization of the domain (a,b) and y is the source term f(x)\n",
    "N = 200\n",
    "a = -6.0\n",
    "b = 2.0\n",
    "x = np.arange(a, b, (b-a)/N).reshape((N,1))\n",
    "y = np.zeros(N)\n",
    "\n",
    "# Boundary conditions\n",
    "A = 1.0\n",
    "B = 0.0\n",
    "\n",
    "# Define the number of neurons in each layer\n",
    "n_nodes_hl1 = 400\n",
    "n_nodes_hl2 = 400\n",
    "\n",
    "# Define the number of outputs and the learning rate\n",
    "n_classes = 1\n",
    "learn_rate = 0.00003\n",
    "\n",
    "# Define input / output placeholders\n",
    "tf.compat.v1.disable_eager_execution()\n",
    "x_ph = tf.compat.v1.placeholder('float', [None, 1],name='input')\n",
    "y_ph = tf.compat.v1.placeholder('float')\n",
    "\n",
    "# Define standard deviation for the weights and biases\n",
    "hl_sigma = 0.02\n",
    "\n",
    "def neural_network_model(data):\n",
    "    hidden_1_layer = {'weights': tf.Variable(name='w_h1',initial_value=tf.random.normal([1, n_nodes_hl1], stddev=hl_sigma)),\n",
    "                      'biases': tf.Variable(name='b_h1',initial_value=tf.random.normal([n_nodes_hl1], stddev=hl_sigma))}\n",
    "\n",
    "    hidden_2_layer = {'weights': tf.Variable(name='w_h2',initial_value=tf.random.normal([n_nodes_hl1, n_nodes_hl2], stddev=hl_sigma)),\n",
    "                      'biases': tf.Variable(name='b_h2',initial_value=tf.random.normal([n_nodes_hl2], stddev=hl_sigma))}\n",
    "\n",
    "    output_layer = {'weights': tf.Variable(name='w_o',initial_value=tf.random.normal([n_nodes_hl2, n_classes], stddev=hl_sigma)),\n",
    "                      'biases': tf.Variable(name='b_o',initial_value=tf.random.normal([n_classes], stddev=hl_sigma))}\n",
    "\n",
    "\n",
    "    # (input_data * weights) + biases\n",
    "    l1 = tf.add(tf.matmul(data, hidden_1_layer['weights']), hidden_1_layer['biases'])\n",
    "    l1 = tf.nn.leaky_relu(l1)   \n",
    "\n",
    "    l2 = tf.add(tf.matmul(l1, hidden_2_layer['weights']), hidden_2_layer['biases'])\n",
    "    l2 = tf.nn.relu(l2)\n",
    "\n",
    "    output = tf.add(tf.matmul(l2, output_layer['weights']), output_layer['biases'], name='output')\n",
    "\n",
    "    return output\n",
    "\n",
    "\n",
    "batch_size = 32\n",
    "\n",
    "# Feed batch data\n",
    "def get_batch(inputX, inputY, batch_size):\n",
    "    duration = len(inputX)\n",
    "    for i in range(0,duration//batch_size):\n",
    "        idx = i*batch_size + np.random.randint(0,10,(1))[0]\n",
    "\n",
    "        yield inputX[idx:idx+batch_size], inputY[idx:idx+batch_size]\n",
    "\n",
    "\n",
    "# Routine to train the neural network\n",
    "def train_neural_network_batch(x_ph, predict=False):\n",
    "    with tf.GradientTape() as gg:\n",
    "        gg.watch(x_ph)\n",
    "        with tf.GradientTape() as g:\n",
    "            g.watch(x_ph)\n",
    "            prediction = neural_network_model(x_ph)\n",
    "        pred_dx = g.gradient(prediction,x_ph)    \n",
    "    pred_dx2 = gg.gradient(pred_dx,x_ph)\n",
    "\n",
    "    # Compute u and its second derivative\n",
    "    u = A + B*x_ph + (x_ph*x_ph)*prediction\n",
    "    dudx2 = (x_ph*x_ph)*pred_dx2 + 2.0*x_ph*pred_dx + 2.0*x_ph*pred_dx + 2.0*prediction\n",
    "\n",
    "    # The cost function is just the residual of u''(x) - x*u(x) = 0, i.e. residual = u''(x)-x*u(x)\n",
    "    cost = tf.reduce_mean(tf.square(dudx2-x_ph*u - y_ph))\n",
    "    optimizer = tf.compat.v1.train.AdamOptimizer(learn_rate).minimize(cost)\n",
    "\n",
    "\n",
    "    # cycles feed forward + backprop\n",
    "    hm_epochs = 400\n",
    "\n",
    "    with tf.compat.v1.Session() as sess:\n",
    "        sess.run(tf.compat.v1.global_variables_initializer())\n",
    "\n",
    "        # Train in each epoch with the whole data\n",
    "        for epoch in range(hm_epochs):\n",
    "\n",
    "            epoch_loss = 0\n",
    "            for step in range(N//batch_size):     ##???\n",
    "                for inputX, inputY in get_batch(x, y, batch_size):\n",
    "                    _, l = sess.run([optimizer,cost], feed_dict={x_ph:inputX, y_ph:inputY})\n",
    "                    epoch_loss += l\n",
    "            if epoch %10 == 0:\n",
    "                print('Epoch', epoch, 'completed out of', hm_epochs, 'loss:', epoch_loss)\n",
    "\n",
    "\n",
    "        # Predict a new input by adding a random number, to check whether the network has actually learned\n",
    "        x_valid = x + 0.0*np.random.normal(scale=0.1,size=(1))\n",
    "        return sess.run(tf.compat.v1.squeeze(prediction),{x_ph:x_valid}), x_valid\n",
    "\n",
    "\n",
    "# Train network\n",
    "tf.compat.v1.set_random_seed(42)\n",
    "pred, time = train_neural_network_batch(x_ph)\n",
    "\n",
    "\n",
    "mypred = pred.reshape(N,1)\n",
    "\n",
    "# Compute Airy functions for exact solution\n",
    "ai, aip, bi, bip = special.airy(time)\n",
    "\n",
    "# Numerical solution vs. exact solution\n",
    "fig = plt.figure()\n",
    "plt.plot(time, A + B*time + (time*time)*mypred)\n",
    "plt.plot(time, 0.5*(3.0**(1/6))*special.gamma(2/3)*(3**(1/2)*ai + bi))\n",
    "plt.show()"
   ]
  },
  {
   "cell_type": "code",
   "execution_count": 14,
   "metadata": {},
   "outputs": [
    {
     "data": {
      "image/png": "[encoded data removed]",
      "text/plain": [
       "<Figure size 432x288 with 1 Axes>"
      ]
     },
     "metadata": {
      "needs_background": "light"
     },
     "output_type": "display_data"
    }
   ],
   "source": [
    "fig = plt.figure()\n",
    "plt.plot(time, A + B*time + (time*time)*mypred)\n",
    "plt.plot(time, ai)\n",
    "plt.plot(time, bi)\n",
    "plt.show()"
   ]
  },
  {
   "cell_type": "code",
   "execution_count": null,
   "metadata": {},
   "outputs": [],
   "source": []
  },
  {
   "cell_type": "code",
   "execution_count": null,
   "metadata": {},
   "outputs": [],
   "source": []
  },
  {
   "cell_type": "markdown",
   "metadata": {},
   "source": [
    "ODE:\n",
    "$$\n",
    "u''(x) - 2u'(x) +2 u(x) = 0\\\\\n",
    "u(0) = 0\\\\\n",
    "u'(0) = 1\n",
    "$$\n",
    "\n",
    "Assume $u=x+x^2N$, then\n",
    "$$\n",
    "x^2 N'' + 4xN' + 2N - 2(1+2xN+x^2N') + 2(x+x^2N) = 0\n",
    "$$\n",
    "\n",
    "Exact solution: $u(x)=e^x\\sin x$"
   ]
  },
  {
   "cell_type": "code",
   "execution_count": 27,
   "metadata": {},
   "outputs": [
    {
     "name": "stdout",
     "output_type": "stream",
     "text": [
      "Epoch 0 completed out of 400 loss: 2114.7465981543064\n",
      "Epoch 10 completed out of 400 loss: 191.47022242378443\n",
      "Epoch 20 completed out of 400 loss: 165.11653311736882\n",
      "Epoch 30 completed out of 400 loss: 140.72279834374785\n",
      "Epoch 40 completed out of 400 loss: 155.26688615605235\n",
      "Epoch 50 completed out of 400 loss: 63.25405030883849\n",
      "Epoch 60 completed out of 400 loss: 44.06258143763989\n",
      "Epoch 70 completed out of 400 loss: 42.32871188223362\n",
      "Epoch 80 completed out of 400 loss: 40.33557077497244\n",
      "Epoch 90 completed out of 400 loss: 44.038587666116655\n",
      "Epoch 100 completed out of 400 loss: 41.88957878574729\n",
      "Epoch 110 completed out of 400 loss: 44.42736704740673\n",
      "Epoch 120 completed out of 400 loss: 46.28833321016282\n",
      "Epoch 130 completed out of 400 loss: 36.954362583346665\n",
      "Epoch 140 completed out of 400 loss: 46.27344066579826\n",
      "Epoch 150 completed out of 400 loss: 49.79594818037003\n",
      "Epoch 160 completed out of 400 loss: 43.38873598724604\n",
      "Epoch 170 completed out of 400 loss: 46.699349761009216\n",
      "Epoch 180 completed out of 400 loss: 45.512193854898214\n",
      "Epoch 190 completed out of 400 loss: 57.968358125537634\n",
      "Epoch 200 completed out of 400 loss: 59.50052298977971\n",
      "Epoch 210 completed out of 400 loss: 56.9393905531615\n",
      "Epoch 220 completed out of 400 loss: 49.09446028992534\n",
      "Epoch 230 completed out of 400 loss: 42.18649619445205\n",
      "Epoch 240 completed out of 400 loss: 56.34174864552915\n",
      "Epoch 250 completed out of 400 loss: 48.096175476908684\n",
      "Epoch 260 completed out of 400 loss: 50.16689505055547\n",
      "Epoch 270 completed out of 400 loss: 56.40136590600014\n",
      "Epoch 280 completed out of 400 loss: 53.133281260728836\n",
      "Epoch 290 completed out of 400 loss: 59.097603742498904\n",
      "Epoch 300 completed out of 400 loss: 60.02609344711527\n",
      "Epoch 310 completed out of 400 loss: 44.764772061258554\n",
      "Epoch 320 completed out of 400 loss: 42.11678026500158\n",
      "Epoch 330 completed out of 400 loss: 44.458918331656605\n",
      "Epoch 340 completed out of 400 loss: 46.07997572235763\n",
      "Epoch 350 completed out of 400 loss: 53.21545660123229\n",
      "Epoch 360 completed out of 400 loss: 60.500217359513044\n",
      "Epoch 370 completed out of 400 loss: 44.75520882103592\n",
      "Epoch 380 completed out of 400 loss: 50.05029111728072\n",
      "Epoch 390 completed out of 400 loss: 36.95479609631002\n"
     ]
    },
    {
     "data": {
      "image/png": "[encoded data removed]",
      "text/plain": [
       "<Figure size 432x288 with 1 Axes>"
      ]
     },
     "metadata": {
      "needs_background": "light"
     },
     "output_type": "display_data"
    }
   ],
   "source": [
    "######################################################################\n",
    "#     u(x) = A + B*x + x^2*N(x,w)\n",
    "# where N(x,w) is the output of the neural network.\n",
    "######################################################################\n",
    "\n",
    "# Create the arrays x and y, where x is a discretization of the domain (a,b) and y is the source term f(x)\n",
    "N = 300\n",
    "a = -6.0\n",
    "b = 3.0\n",
    "x = np.arange(a, b, (b-a)/N).reshape((N,1))\n",
    "y = np.zeros(N)\n",
    "\n",
    "# Boundary conditions\n",
    "A = 0.0\n",
    "B = 1.0\n",
    "\n",
    "# Define the number of neurons in each layer\n",
    "n_nodes_hl1 = 10\n",
    "n_nodes_hl2 = 10\n",
    "\n",
    "# Define the number of outputs and the learning rate\n",
    "n_classes = 1\n",
    "learn_rate = 0.003\n",
    "\n",
    "# Define input / output placeholders\n",
    "tf.compat.v1.disable_eager_execution()\n",
    "x_ph = tf.compat.v1.placeholder('float', [None, 1],name='input')\n",
    "y_ph = tf.compat.v1.placeholder('float')\n",
    "\n",
    "# Define standard deviation for the weights and biases\n",
    "hl_sigma = 0.02\n",
    "\n",
    "def neural_network_model(data):\n",
    "    hidden_1_layer = {'weights': tf.Variable(name='w_h1',initial_value=tf.random.normal([1, n_nodes_hl1], stddev=hl_sigma)),\n",
    "                      'biases': tf.Variable(name='b_h1',initial_value=tf.random.normal([n_nodes_hl1], stddev=hl_sigma))}\n",
    "\n",
    "    hidden_2_layer = {'weights': tf.Variable(name='w_h2',initial_value=tf.random.normal([n_nodes_hl1, n_nodes_hl2], stddev=hl_sigma)),\n",
    "                      'biases': tf.Variable(name='b_h2',initial_value=tf.random.normal([n_nodes_hl2], stddev=hl_sigma))}\n",
    "\n",
    "    output_layer = {'weights': tf.Variable(name='w_o',initial_value=tf.random.normal([n_nodes_hl2, n_classes], stddev=hl_sigma)),\n",
    "                      'biases': tf.Variable(name='b_o',initial_value=tf.random.normal([n_classes], stddev=hl_sigma))}\n",
    "\n",
    "\n",
    "    # (input_data * weights) + biases\n",
    "    l1 = tf.add(tf.matmul(data, hidden_1_layer['weights']), hidden_1_layer['biases'])\n",
    "    l1 = tf.nn.leaky_relu(l1)   \n",
    "\n",
    "    l2 = tf.add(tf.matmul(l1, hidden_2_layer['weights']), hidden_2_layer['biases'])\n",
    "    l2 = tf.nn.relu(l2)\n",
    "\n",
    "    output = tf.add(tf.matmul(l2, output_layer['weights']), output_layer['biases'], name='output')\n",
    "\n",
    "    return output\n",
    "\n",
    "\n",
    "batch_size = 32\n",
    "\n",
    "# Feed batch data\n",
    "def get_batch(inputX, inputY, batch_size):\n",
    "    duration = len(inputX)\n",
    "    for i in range(0,duration//batch_size):\n",
    "        idx = i*batch_size + np.random.randint(0,10,(1))[0]\n",
    "\n",
    "        yield inputX[idx:idx+batch_size], inputY[idx:idx+batch_size]\n",
    "\n",
    "\n",
    "# Routine to train the neural network\n",
    "def train_neural_network_batch(x_ph, predict=False):\n",
    "    with tf.GradientTape() as gg:\n",
    "        gg.watch(x_ph)\n",
    "        with tf.GradientTape() as g:\n",
    "            g.watch(x_ph)\n",
    "            prediction = neural_network_model(x_ph)\n",
    "        pred_dx = g.gradient(prediction,x_ph)    \n",
    "    pred_dx2 = gg.gradient(pred_dx,x_ph)\n",
    "\n",
    "    # Compute u and its second derivative\n",
    "    u = A + B*x_ph + (x_ph*x_ph)*prediction\n",
    "    dudx = B + 2*x_ph*prediction + (x_ph*x_ph)*pred_dx\n",
    "    dudx2 = (x_ph*x_ph)*pred_dx2 + 2.0*x_ph*pred_dx + 2.0*x_ph*pred_dx + 2.0*prediction\n",
    "\n",
    "    # The cost function is just the residual of u''(x) - x*u(x) = 0, i.e. residual = u''(x)-x*u(x)\n",
    "    cost = tf.reduce_mean(tf.square(dudx2-2*dudx+2*u - y_ph))\n",
    "    optimizer = tf.compat.v1.train.AdamOptimizer(learn_rate).minimize(cost)\n",
    "\n",
    "\n",
    "    # cycles feed forward + backprop\n",
    "    hm_epochs = 400\n",
    "\n",
    "    with tf.compat.v1.Session() as sess:\n",
    "        sess.run(tf.compat.v1.global_variables_initializer())\n",
    "\n",
    "        # Train in each epoch with the whole data\n",
    "        for epoch in range(hm_epochs):\n",
    "\n",
    "            epoch_loss = 0\n",
    "            for step in range(N//batch_size):     ##???\n",
    "                for inputX, inputY in get_batch(x, y, batch_size):\n",
    "                    _, l = sess.run([optimizer,cost], feed_dict={x_ph:inputX, y_ph:inputY})\n",
    "                    epoch_loss += l\n",
    "            if epoch %10 == 0:\n",
    "                print('Epoch', epoch, 'completed out of', hm_epochs, 'loss:', epoch_loss)\n",
    "\n",
    "\n",
    "        # Predict a new input by adding a random number, to check whether the network has actually learned\n",
    "        x_valid = x + 0.0*np.random.normal(scale=0.1,size=(1))\n",
    "        return sess.run(tf.compat.v1.squeeze(prediction),{x_ph:x_valid}), x_valid\n",
    "\n",
    "\n",
    "# Train network\n",
    "tf.compat.v1.set_random_seed(42)\n",
    "pred, time = train_neural_network_batch(x_ph)\n",
    "\n",
    "\n",
    "mypred = pred.reshape(N,1)\n",
    "\n",
    "# Compute Airy functions for exact solution\n",
    "# ai, aip, bi, bip = special.airy(time)\n",
    "\n",
    "# Numerical solution vs. exact solution\n",
    "fig = plt.figure()\n",
    "plt.plot(time, A + B*time + (time*time)*mypred)\n",
    "plt.plot(time, np.exp(time)*np.sin(time))\n",
    "plt.show()"
   ]
  },
  {
   "cell_type": "code",
   "execution_count": null,
   "metadata": {},
   "outputs": [],
   "source": []
  },
  {
   "cell_type": "code",
   "execution_count": null,
   "metadata": {},
   "outputs": [],
   "source": []
  },
  {
   "cell_type": "code",
   "execution_count": null,
   "metadata": {},
   "outputs": [],
   "source": []
  },
  {
   "cell_type": "markdown",
   "metadata": {},
   "source": [
    "convert to TensorFlow2.x\n",
    "https://stackoverflow.com/questions/58986126/replacing-placeholder-for-tensorflow-v2\n",
    "\n",
    "make_dict[key] = tf.keras.Input(name=key, shape=(), dtype=tf.dtypes.float32)"
   ]
  },
  {
   "cell_type": "code",
   "execution_count": 7,
   "metadata": {},
   "outputs": [],
   "source": [
    "######################################################################\n",
    "# Routine to solve u''(x) - x*u(x) = f(x), u(0)=A, u'(0)=B in the form\n",
    "#     u(x) = A + B*x + x^2*N(x,w)\n",
    "# where N(x,w) is the output of the neural network.\n",
    "######################################################################\n",
    "\n",
    "# Create the arrays x and y, where x is a discretization of the domain (a,b) and y is the source term f(x)\n",
    "N = 200\n",
    "a = -6.0\n",
    "b = 2.0\n",
    "x = np.arange(a, b, (b-a)/N).reshape((N,1))\n",
    "y = np.zeros(N)\n",
    "\n",
    "# Boundary conditions\n",
    "A = 1.0\n",
    "B = 0.0\n",
    "\n",
    "# Define the number of neurons in each layer\n",
    "n_nodes_hl1 = 400\n",
    "n_nodes_hl2 = 400\n",
    "\n",
    "# Define the number of outputs and the learning rate\n",
    "n_classes = 1\n",
    "learn_rate = 0.00003"
   ]
  },
  {
   "cell_type": "code",
   "execution_count": 8,
   "metadata": {},
   "outputs": [],
   "source": [
    "x_ph = tf.keras.Input(name='input', shape=(), dtype=tf.dtypes.float32)\n",
    "y_ph = tf.keras.Input(name='output', shape=(), dtype=tf.dtypes.float32)\n",
    "\n",
    "# Define standard deviation for the weights and biases\n",
    "hl_sigma = 0.02\n",
    "\n",
    "def neural_network_model(data):\n",
    "    hidden_1_layer = {'weights': tf.Variable(name='w_h1',initial_value=tf.random.normal([1, n_nodes_hl1], stddev=hl_sigma)),\n",
    "                      'biases': tf.Variable(name='b_h1',initial_value=tf.random.normal([n_nodes_hl1], stddev=hl_sigma))}\n",
    "\n",
    "    hidden_2_layer = {'weights': tf.Variable(name='w_h2',initial_value=tf.random.normal([n_nodes_hl1, n_nodes_hl2], stddev=hl_sigma)),\n",
    "                      'biases': tf.Variable(name='b_h2',initial_value=tf.random.normal([n_nodes_hl2], stddev=hl_sigma))}\n",
    "\n",
    "    output_layer = {'weights': tf.Variable(name='w_o',initial_value=tf.random.normal([n_nodes_hl2, n_classes], stddev=hl_sigma)),\n",
    "                      'biases': tf.Variable(name='b_o',initial_value=tf.random.normal([n_classes], stddev=hl_sigma))}\n",
    "\n",
    "\n",
    "    # (input_data * weights) + biases\n",
    "    l1 = tf.add(tf.matmul(data, hidden_1_layer['weights']), hidden_1_layer['biases'])\n",
    "    l1 = tf.nn.leaky_relu(l1)   \n",
    "\n",
    "    l2 = tf.add(tf.matmul(l1, hidden_2_layer['weights']), hidden_2_layer['biases'])\n",
    "    l2 = tf.nn.relu(l2)\n",
    "\n",
    "    output = tf.add(tf.matmul(l2, output_layer['weights']), output_layer['biases'], name='output')\n",
    "\n",
    "    return output\n",
    "\n",
    "batch_size = 32\n",
    "\n",
    "# Feed batch data\n",
    "def get_batch(inputX, inputY, batch_size):\n",
    "    duration = len(inputX)\n",
    "    for i in range(0,duration//batch_size):\n",
    "        idx = i*batch_size + np.random.randint(0,10,(1))[0]\n",
    "\n",
    "        yield inputX[idx:idx+batch_size], inputY[idx:idx+batch_size]"
   ]
  },
  {
   "cell_type": "code",
   "execution_count": null,
   "metadata": {},
   "outputs": [],
   "source": []
  },
  {
   "cell_type": "code",
   "execution_count": 17,
   "metadata": {},
   "outputs": [
    {
     "data": {
      "text/plain": [
       "(0.40000063, 0.40000063)"
      ]
     },
     "execution_count": 17,
     "metadata": {},
     "output_type": "execute_result"
    }
   ],
   "source": [
    "opt = tf.keras.optimizers.Adam(learning_rate=0.1)\n",
    "var1 = tf.Variable(0.5)\n",
    "var2 = tf.Variable(0.5)\n",
    "loss = lambda: (var1**2+var2)/2.0       # d(loss)/d(var1) == var1\n",
    "step_count = opt.minimize(loss, [var1,var2]).numpy()\n",
    "# The first step is `-learning_rate*sign(grad)`\n",
    "var1.numpy(), var2.numpy()"
   ]
  },
  {
   "cell_type": "code",
   "execution_count": null,
   "metadata": {},
   "outputs": [],
   "source": [
    "\n",
    "\n",
    "# Routine to train the neural network\n",
    "def train_neural_network_batch(x_ph, predict=False):\n",
    "    with tf.GradientTape() as gg:\n",
    "        gg.watch(x_ph)\n",
    "        with tf.GradientTape() as g:\n",
    "            g.watch(x_ph)\n",
    "            prediction = neural_network_model(x_ph)\n",
    "        pred_dx = g.gradient(prediction,x_ph)    \n",
    "    pred_dx2 = gg.gradient(pred_dx,x_ph)\n",
    "\n",
    "    # Compute u and its second derivative\n",
    "    u = A + B*x_ph + (x_ph*x_ph)*prediction\n",
    "    dudx2 = (x_ph*x_ph)*pred_dx2 + 2.0*x_ph*pred_dx + 2.0*x_ph*pred_dx + 2.0*prediction\n",
    "\n",
    "    # The cost function is just the residual of u''(x) - x*u(x) = 0, i.e. residual = u''(x)-x*u(x)\n",
    "    cost = tf.reduce_mean(tf.square(dudx2-x_ph*u - y_ph))\n",
    "    opt = tf.keras.optimizers.Adam(learning_rate=0.1)\n",
    "    opt.minimize(cost, [var1]).numpy()\n",
    "    \n",
    "    optimizer = tf.compat.v1.train.AdamOptimizer(learn_rate).minimize(cost)\n",
    "\n",
    "\n",
    "    # cycles feed forward + backprop\n",
    "    hm_epochs = 400\n",
    "\n",
    "    with tf.compat.v1.Session() as sess:\n",
    "        sess.run(tf.compat.v1.global_variables_initializer())\n",
    "\n",
    "        # Train in each epoch with the whole data\n",
    "        for epoch in range(hm_epochs):\n",
    "\n",
    "            epoch_loss = 0\n",
    "            for step in range(N//batch_size):     ##???\n",
    "                for inputX, inputY in get_batch(x, y, batch_size):\n",
    "                    _, l = sess.run([optimizer,cost], feed_dict={x_ph:inputX, y_ph:inputY})\n",
    "                    epoch_loss += l\n",
    "            if epoch %10 == 0:\n",
    "                print('Epoch', epoch, 'completed out of', hm_epochs, 'loss:', epoch_loss)\n",
    "\n",
    "\n",
    "        # Predict a new input by adding a random number, to check whether the network has actually learned\n",
    "        x_valid = x + 0.0*np.random.normal(scale=0.1,size=(1))\n",
    "        return sess.run(tf.compat.v1.squeeze(prediction),{x_ph:x_valid}), x_valid\n",
    "\n",
    "\n",
    "# Train network\n",
    "tf.compat.v1.set_random_seed(42)\n",
    "pred, time = train_neural_network_batch(x_ph)\n",
    "\n",
    "\n",
    "mypred = pred.reshape(N,1)\n",
    "\n",
    "# Compute Airy functions for exact solution\n",
    "ai, aip, bi, bip = special.airy(time)\n",
    "\n",
    "# Numerical solution vs. exact solution\n",
    "fig = plt.figure()\n",
    "plt.plot(time, A + B*time + (time*time)*mypred)\n",
    "plt.plot(time, 0.5*(3.0**(1/6))*special.gamma(2/3)*(3**(1/2)*ai + bi))\n",
    "plt.show()"
   ]
  },
  {
   "cell_type": "code",
   "execution_count": null,
   "metadata": {},
   "outputs": [],
   "source": []
  },
  {
   "cell_type": "code",
   "execution_count": null,
   "metadata": {},
   "outputs": [],
   "source": []
  },
  {
   "cell_type": "code",
   "execution_count": null,
   "metadata": {},
   "outputs": [],
   "source": []
  },
  {
   "cell_type": "code",
   "execution_count": null,
   "metadata": {},
   "outputs": [],
   "source": []
  },
  {
   "cell_type": "code",
   "execution_count": null,
   "metadata": {},
   "outputs": [],
   "source": []
  },
  {
   "cell_type": "code",
   "execution_count": null,
   "metadata": {},
   "outputs": [],
   "source": []
  },
  {
   "cell_type": "code",
   "execution_count": 10,
   "metadata": {
    "scrolled": true
   },
   "outputs": [
    {
     "data": {
      "text/plain": [
       "8"
      ]
     },
     "execution_count": 10,
     "metadata": {},
     "output_type": "execute_result"
    }
   ],
   "source": [
    "np.random.randint(0,10,(1))[0]"
   ]
  },
  {
   "cell_type": "code",
   "execution_count": 11,
   "metadata": {},
   "outputs": [
    {
     "data": {
      "text/plain": [
       "array([2, 3, 4, 6, 8, 6, 4, 4])"
      ]
     },
     "execution_count": 11,
     "metadata": {},
     "output_type": "execute_result"
    }
   ],
   "source": [
    "a = np.array([1,2,3,4,6,8,6,4,4])\n",
    "a[1:14]"
   ]
  },
  {
   "cell_type": "code",
   "execution_count": 12,
   "metadata": {},
   "outputs": [
    {
     "data": {
      "text/plain": [
       "9"
      ]
     },
     "execution_count": 12,
     "metadata": {},
     "output_type": "execute_result"
    }
   ],
   "source": [
    "len(a)"
   ]
  },
  {
   "cell_type": "code",
   "execution_count": null,
   "metadata": {},
   "outputs": [],
   "source": []
  }
 ],
 "metadata": {
  "kernelspec": {
   "display_name": "Python 3",
   "language": "python",
   "name": "python3"
  },
  "language_info": {
   "codemirror_mode": {
    "name": "ipython",
    "version": 3
   },
   "file_extension": ".py",
   "mimetype": "text/x-python",
   "name": "python",
   "nbconvert_exporter": "python",
   "pygments_lexer": "ipython3",
   "version": "3.8.6"
  }
 },
 "nbformat": 4,
 "nbformat_minor": 4
}
