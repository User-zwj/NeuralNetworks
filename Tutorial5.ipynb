{
 "cells": [
  {
   "cell_type": "code",
   "execution_count": null,
   "metadata": {},
   "outputs": [],
   "source": [
    "# solve ODE\n",
    "\n",
    "#work/DNN/ODE-tf/tf2 vs tf1 (eg from stack)\n",
    "two examples there\n",
    "\n",
    "#work/DNN/ODE-tf/pdes\n",
    "raindrop\n",
    "\n",
    "#work/DNN/ODE-tf/tf_keras_tfp_lbfgs_test\n",
    "use lbfgs optimizer"
   ]
  }
 ],
 "metadata": {
  "kernelspec": {
   "display_name": "Python 3",
   "language": "python",
   "name": "python3"
  },
  "language_info": {
   "codemirror_mode": {
    "name": "ipython",
    "version": 3
   },
   "file_extension": ".py",
   "mimetype": "text/x-python",
   "name": "python",
   "nbconvert_exporter": "python",
   "pygments_lexer": "ipython3",
   "version": "3.8.6"
  }
 },
 "nbformat": 4,
 "nbformat_minor": 4
}
