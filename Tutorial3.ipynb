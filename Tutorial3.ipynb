{
 "cells": [
  {
   "cell_type": "markdown",
   "metadata": {},
   "source": [
    "# Customization & Components"
   ]
  },
  {
   "cell_type": "markdown",
   "metadata": {},
   "source": [
    "## Customize the activation function\n",
    "\n",
    "Modification based on [Ref](https://medium.com/@chinesh4/custom-activation-function-in-tensorflow-for-deep-neural-networks-from-scratch-tutorial-b12e00652e24)"
   ]
  },
  {
   "cell_type": "code",
   "execution_count": 2,
   "metadata": {
    "scrolled": true
   },
   "outputs": [],
   "source": [
    "# !pip install tensorflow --upgrade"
   ]
  },
  {
   "cell_type": "code",
   "execution_count": null,
   "metadata": {},
   "outputs": [],
   "source": [
    "customize activation    \n",
    "\n",
    "#work/python/keras-1\n",
    "\n",
    "#work/DNN/Comparison-activation"
   ]
  },
  {
   "cell_type": "code",
   "execution_count": 1,
   "metadata": {},
   "outputs": [],
   "source": [
    "import numpy as np\n",
    "import tensorflow as tf\n",
    "import matplotlib.pyplot as plt"
   ]
  },
  {
   "cell_type": "code",
   "execution_count": 2,
   "metadata": {},
   "outputs": [
    {
     "data": {
      "text/plain": [
       "'2.4.1'"
      ]
     },
     "execution_count": 2,
     "metadata": {},
     "output_type": "execute_result"
    }
   ],
   "source": [
    "tf.__version__"
   ]
  },
  {
   "cell_type": "markdown",
   "metadata": {},
   "source": [
    "### Example 1"
   ]
  },
  {
   "cell_type": "markdown",
   "metadata": {},
   "source": [
    "[Gaussin Radial Basis Function](https://en.wikipedia.org/wiki/Radial_basis_function) is defined as\n",
    "$$\n",
    "\\phi(x) = e^{-(\\epsilon r)^2}\n",
    "$$\n",
    "\n",
    "We found out that radial basis function works pretty good as an activation in a network, this will be demonstrated in the following tutorials. The raial basis function only makes a difference in an interval close to the center which is similar to the idea of \"on-and-off\" of an activation function.\n",
    "\n",
    "In a dimension 1 space, let us set activation to be $\\phi(x)=e^{-x^2}$. Since this is not in TensorFlow's list of activation functions https://www.tensorflow.org/api_docs/python/tf/keras/activations, we will use it for demonstration of customizing activation function."
   ]
  },
  {
   "cell_type": "code",
   "execution_count": 2,
   "metadata": {},
   "outputs": [],
   "source": [
    "#######################################\n",
    "#define the activation function\n",
    "def rbf(x):\n",
    "    return tf.math.exp(-x**2)\n",
    "\n",
    "#######################################\n",
    "#define the derivative of the activation function\n",
    "def d_rbf(x):\n",
    "    return tf.gradients(rbf,x)\n",
    "\n",
    "#######################################\n",
    "#we couldn't use “d_rbf” as an activation function if we wanted to \n",
    "#because tensorflow doesn't know how to calculate the gradients of that function.\n",
    "def rbf_grad(op, grad):\n",
    "    x = op.inputs[0]\n",
    "    n_gr = d_rbf(x)    #defining the gradient.\n",
    "    return grad * n_gr\n",
    "\n",
    "def py_func(func, inp, Tout, stateful=True, name=None, grad=None):\n",
    "    # Need to generate a unique name to avoid duplicates:\n",
    "    rnd_name = 'PyFuncGrad' + str(np.random.randint(0, 1E+2))\n",
    "    tf.RegisterGradient(rnd_name)(grad)\n",
    "    g = tf.get_default_graph()\n",
    "    with g.gradient_override_map({\"PyFunc\": rnd_name, \"PyFuncStateless\": rnd_name}):\n",
    "        return tf.py_func(func, inp, Tout, stateful=stateful, name=name)\n",
    "    \n",
    "def tf_rbf(x,name=None):\n",
    "    with tf.name_scope(name, \"rbf\", [x]) as name:\n",
    "        y = py_func(rbf,   #forward pass function\n",
    "                    [x],\n",
    "                    [tf.float32],\n",
    "                    name=name,\n",
    "                    grad= rbf_grad) #the function that overrides gradient\n",
    "        y[0].set_shape(x.get_shape())     #when using with the code, it is used to specify the rank of the input.\n",
    "    return y[0]"
   ]
  },
  {
   "cell_type": "code",
   "execution_count": 3,
   "metadata": {},
   "outputs": [],
   "source": [
    "## Training data\n",
    "np.random.seed(1)\n",
    "x_train = np.linspace(-40,40,20)\n",
    "y_train = 0.3*x_train**2 + np.random.normal(0, 1, len(x_train)) "
   ]
  },
  {
   "cell_type": "code",
   "execution_count": 4,
   "metadata": {},
   "outputs": [
    {
     "data": {
      "text/plain": [
       "[array([[-2.6122294e-03,  1.6906145e-03, -2.2995217e+00]], dtype=float32),\n",
       " array([-4.2092835e-04,  2.8977118e-04,  4.8410983e+00], dtype=float32),\n",
       " array([[  57.36145 ],\n",
       "        [  59.288876],\n",
       "        [-115.397705]], dtype=float32),\n",
       " array([55.409958], dtype=float32)]"
      ]
     },
     "execution_count": 4,
     "metadata": {},
     "output_type": "execute_result"
    }
   ],
   "source": [
    "model_rbf = tf.keras.Sequential()\n",
    "model_rbf.add(tf.keras.layers.Dense(3,activation=rbf))     #no need to put quote around rbf\n",
    "model_rbf.add(tf.keras.layers.Dense(1))\n",
    "\n",
    "model_rbf.compile(loss='mean_squared_error', optimizer=tf.keras.optimizers.Adam(0.1))\n",
    "model_rbf.fit(x_train,y_train, epochs=1000, verbose=0)\n",
    "\n",
    "# model.summary()\n",
    "model_rbf.get_weights()   #test if model is trained successfully"
   ]
  },
  {
   "cell_type": "markdown",
   "metadata": {},
   "source": [
    "## Cutomize the loss function "
   ]
  },
  {
   "cell_type": "code",
   "execution_count": 9,
   "metadata": {},
   "outputs": [],
   "source": [
    "model = tf.keras.Sequential()\n",
    "model.add(tf.keras.layers.Dense(3,activation=rbf))     #no need to put quote around rbf\n",
    "model.add(tf.keras.layers.Dense(1))"
   ]
  },
  {
   "cell_type": "code",
   "execution_count": 12,
   "metadata": {},
   "outputs": [],
   "source": [
    "# customize loss\n",
    "def custom_loss(ytrue,ypred):\n",
    "    val = tf.math.reduce_mean(tf.math.square((ytrue-ypred)/10))\n",
    "    return val"
   ]
  },
  {
   "cell_type": "code",
   "execution_count": 16,
   "metadata": {},
   "outputs": [
    {
     "data": {
      "text/plain": [
       "[array([[ 4.8343139e-05, -1.8820183e-01,  5.0299735e-05]], dtype=float32),\n",
       " array([1.9036455e-05, 5.2888556e-03, 2.9459905e-05], dtype=float32),\n",
       " array([[ 5.030023 ],\n",
       "        [-4.4802723],\n",
       "        [ 4.8218493]], dtype=float32),\n",
       " array([3.9862227], dtype=float32)]"
      ]
     },
     "execution_count": 16,
     "metadata": {},
     "output_type": "execute_result"
    }
   ],
   "source": [
    "model.compile(loss=custom_loss,optimizer=tf.keras.optimizers.Adam(0.01))\n",
    "model.fit(x_train,y_train,epochs=100,verbose=0)\n",
    "\n",
    "model.get_weights()    #test if model is trained successfully"
   ]
  },
  {
   "cell_type": "markdown",
   "metadata": {},
   "source": [
    "- [Models](#Models)\n",
    "- [Layers](#Layers)\n",
    "- [Activations](#Activations)\n",
    "- [Fully Connected Networks](#Fully-Connected-Networks)\n",
    "\n",
    "[Ref](https://www.dbooks.org/tensorflow-2-tutorial-1589/)"
   ]
  },
  {
   "cell_type": "markdown",
   "metadata": {},
   "source": [
    "## Components\n",
    "### Models"
   ]
  },
  {
   "cell_type": "code",
   "execution_count": 5,
   "metadata": {},
   "outputs": [],
   "source": [
    "import time\n",
    "import numpy as np\n",
    "import pandas as pd\n",
    "import tensorflow as tf\n",
    "from functools import reduce\n",
    "from matplotlib import pyplot as plt\n",
    "from pprint import pprint"
   ]
  },
  {
   "cell_type": "code",
   "execution_count": 6,
   "metadata": {},
   "outputs": [
    {
     "name": "stdout",
     "output_type": "stream",
     "text": [
      "2.4.1\n"
     ]
    }
   ],
   "source": [
    "print(tf.__version__)\n",
    "## Generate Needed Data\n",
    "## Ax = b Problem\n",
    "tf.random.set_seed(42)\n",
    "true_weights = tf.constant(list(range(5)), dtype=tf.float32)[:, tf.newaxis]    #x\n",
    "x = tf.constant(tf.random.uniform((32, 5)), dtype=tf.float32)           #A\n",
    "y = tf.constant(x @ true_weights, dtype=tf.float32)            #b"
   ]
  },
  {
   "cell_type": "code",
   "execution_count": 7,
   "metadata": {},
   "outputs": [],
   "source": [
    "weights = tf.Variable(tf.random.uniform((5, 1)), dtype=tf.float32)\n",
    "y_hat = tf.linalg.matmul(x, weights)"
   ]
  },
  {
   "cell_type": "code",
   "execution_count": 6,
   "metadata": {},
   "outputs": [
    {
     "data": {
      "text/plain": [
       "True"
      ]
     },
     "execution_count": 6,
     "metadata": {},
     "output_type": "execute_result"
    }
   ],
   "source": [
    "# np.all(tf.matmul(x, weights) == tf.linalg.matmul(x, weights))"
   ]
  },
  {
   "cell_type": "markdown",
   "metadata": {},
   "source": [
    "#### Trial 1: Define this linear regression model using class.\n",
    "\n",
    "With the class, we can evaluate `Ax` and access `x`"
   ]
  },
  {
   "cell_type": "code",
   "execution_count": 8,
   "metadata": {},
   "outputs": [],
   "source": [
    "class LinearRegression(object):\n",
    "    def __init__(self, num_parameters):\n",
    "        self._weights = tf.Variable(tf.random.uniform((num_parameters,1)), dtype=tf.float32)\n",
    "    \n",
    "    @tf.function\n",
    "    def __call__(self, x):\n",
    "        return tf.linalg.matmul(x, self._weights)\n",
    "    \n",
    "    @property\n",
    "    def variables(self):\n",
    "        return self._weights"
   ]
  },
  {
   "cell_type": "code",
   "execution_count": 10,
   "metadata": {},
   "outputs": [],
   "source": [
    "# model = LinearRegression(5)\n",
    "# model(x)"
   ]
  },
  {
   "cell_type": "markdown",
   "metadata": {},
   "source": [
    "Note that we decorated the `__call__` method with `tf.function`, hence a graph will\n",
    "be generated to back up the computation.\n",
    "\n",
    "With this class, we can rewrite the training code as:\n",
    "\n",
    "#### Trial 1: Train the model\n",
    "\n",
    "Gradient descent method"
   ]
  },
  {
   "cell_type": "code",
   "execution_count": 9,
   "metadata": {},
   "outputs": [
    {
     "name": "stdout",
     "output_type": "stream",
     "text": [
      "mean squared loss at iteration    0 is 18.7201\n",
      "mean squared loss at iteration  200 is 0.0325\n",
      "mean squared loss at iteration  400 is 0.0017\n",
      "mean squared loss at iteration  600 is 0.0002\n",
      "mean squared loss at iteration  800 is 0.0000\n",
      "mean squared loss at iteration 1000 is 0.0000\n",
      "<tf.Variable 'Variable:0' shape=(5, 1) dtype=float32, numpy=\n",
      "array([[-3.1365452e-03],\n",
      "       [ 1.0065703e+00],\n",
      "       [ 2.0000944e+00],\n",
      "       [ 3.0032609e+00],\n",
      "       [ 3.9934685e+00]], dtype=float32)>\n",
      "time took: 0.35858607292175293 seconds\n"
     ]
    }
   ],
   "source": [
    "model = LinearRegression(5)\n",
    "\n",
    "@tf.function\n",
    "def train_step():\n",
    "    with tf.GradientTape() as tape:\n",
    "        y_hat = model(x)\n",
    "        loss = tf.reduce_mean(tf.square(y - y_hat))\n",
    "    gradients = tape.gradient(loss, model.variables)\n",
    "    model.variables.assign_add(tf.constant([-0.05], dtype=tf.float32)* gradients)\n",
    "    return loss\n",
    "\n",
    "t0 = time.time()\n",
    "for iteration in range(1001):\n",
    "    loss = train_step()\n",
    "    if not (iteration % 200):\n",
    "        print('mean squared loss at iteration {:4d} is {:5.4f}'.format(iteration, loss))\n",
    "\n",
    "pprint(model.variables)\n",
    "print('time took: {} seconds'.format(time.time() - t0))"
   ]
  },
  {
   "cell_type": "markdown",
   "metadata": {},
   "source": [
    "Here, we still decorated the `train_step` function with `tf.function`. The reason is\n",
    "that <font color=red>the loss and gradient calculation can also benefit from graphs</font>.\n",
    "This simple model class works fine. But it can be better if we subclass from\n",
    "`tf.keras.Model`."
   ]
  },
  {
   "cell_type": "markdown",
   "metadata": {},
   "source": [
    "#### Trial 2: Define this linear regression model using class as subclass from tf.keras.Model"
   ]
  },
  {
   "cell_type": "code",
   "execution_count": 10,
   "metadata": {},
   "outputs": [],
   "source": [
    "class LinearRegression(tf.keras.Model):\n",
    "    def __init__(self, num_parameters, **kwargs):\n",
    "        super().__init__(**kwargs)\n",
    "        self._weights = tf.Variable(tf.random.uniform((num_parameters,1)), dtype=tf.float32)\n",
    "    \n",
    "    @tf.function\n",
    "    def call(self, x):\n",
    "        return tf.linalg.matmul(x, self._weights)"
   ]
  },
  {
   "cell_type": "markdown",
   "metadata": {},
   "source": [
    "This model class has a few differences compared with the organic version. First is that we\n",
    "implemented the call method rather than the dunder version of it. Under the hood,\n",
    "`tf.keras.Model`'s `__call__` method is a wrapper over this `call` method, and it is\n",
    "performing, among many other things, things like converting inputs to tensors and graph\n",
    "building. The second thing is that we dropped the accessor for the variables because we\n",
    "inherited one.\n",
    "\n",
    "\n",
    "With this subclass model, we need to modify the training code a bit to make it work. The\n",
    "`.variables` accessor from `tf.keras.Model` gives us a collection of references to\n",
    "the model's variables, to accommodate complex models with many sets of variables. So,\n",
    "as a result, the corresponding gradients will be a collection too."
   ]
  },
  {
   "cell_type": "code",
   "execution_count": 11,
   "metadata": {},
   "outputs": [
    {
     "data": {
      "text/plain": [
       "[array([[0.7402308 ],\n",
       "        [0.33938193],\n",
       "        [0.5692506 ],\n",
       "        [0.44811392],\n",
       "        [0.29285502]], dtype=float32)]"
      ]
     },
     "execution_count": 11,
     "metadata": {},
     "output_type": "execute_result"
    }
   ],
   "source": [
    "model = LinearRegression(5)\n",
    "# model(x)\n",
    "model.get_weights()   #only the value in model.variables"
   ]
  },
  {
   "cell_type": "code",
   "execution_count": 12,
   "metadata": {},
   "outputs": [
    {
     "data": {
      "text/plain": [
       "[<tf.Variable 'Variable:0' shape=(5, 1) dtype=float32, numpy=\n",
       " array([[0.7402308 ],\n",
       "        [0.33938193],\n",
       "        [0.5692506 ],\n",
       "        [0.44811392],\n",
       "        [0.29285502]], dtype=float32)>]"
      ]
     },
     "execution_count": 12,
     "metadata": {},
     "output_type": "execute_result"
    }
   ],
   "source": [
    "model.variables   #this is a list"
   ]
  },
  {
   "cell_type": "markdown",
   "metadata": {},
   "source": [
    "#### Trial 2: Train the model"
   ]
  },
  {
   "cell_type": "code",
   "execution_count": 13,
   "metadata": {},
   "outputs": [
    {
     "name": "stdout",
     "output_type": "stream",
     "text": [
      "mean squared loss at iteration    0 is 14.3411\n",
      "mean squared loss at iteration  200 is 0.0294\n",
      "mean squared loss at iteration  400 is 0.0016\n",
      "mean squared loss at iteration  600 is 0.0002\n",
      "mean squared loss at iteration  800 is 0.0000\n",
      "mean squared loss at iteration 1000 is 0.0000\n",
      "[<tf.Variable 'Variable:0' shape=(5, 1) dtype=float32, numpy=\n",
      "array([[-3.2304246e-03],\n",
      "       [ 1.0066777e+00],\n",
      "       [ 2.0000989e+00],\n",
      "       [ 3.0033290e+00],\n",
      "       [ 3.9933815e+00]], dtype=float32)>]\n",
      "time took: 0.27019238471984863 seconds\n"
     ]
    }
   ],
   "source": [
    "model = LinearRegression(5)\n",
    "\n",
    "@tf.function\n",
    "def train_step():\n",
    "    with tf.GradientTape() as tape:\n",
    "        y_hat = model(x)\n",
    "        loss = tf.reduce_mean(tf.square(y - y_hat))\n",
    "    gradients = tape.gradient(loss, model.variables)\n",
    "    for g, v in zip(gradients, model.variables):      #if use the above way to update variables, error; see below\n",
    "        v.assign_add(tf.constant([-0.05], dtype=tf.float32) * g)\n",
    "    return loss\n",
    "\n",
    "t0 = time.time()\n",
    "for iteration in range(1001):\n",
    "    loss = train_step()\n",
    "    if not (iteration % 200):\n",
    "        print('mean squared loss at iteration {:4d} is {:5.4f}'.format(iteration, loss))\n",
    "        \n",
    "pprint(model.variables)\n",
    "print('time took: {} seconds'.format(time.time() - t0))"
   ]
  },
  {
   "cell_type": "code",
   "execution_count": 54,
   "metadata": {},
   "outputs": [],
   "source": [
    "## Uncomment the following to see the error message\n",
    "\n",
    "# model = LinearRegression(5)\n",
    "\n",
    "# @tf.function\n",
    "# def train_step():\n",
    "#     with tf.GradientTape() as tape:\n",
    "#         y_hat = model(x)\n",
    "#         loss = tf.reduce_mean(tf.square(y - y_hat))\n",
    "#     gradients = tape.gradient(loss, model.variables)    #model.variables is a list\n",
    "#     model.variables.assign_add(tf.constant([-0.05], dtype=tf.float32) * gradients)\n",
    "#     return loss\n",
    "\n",
    "# t0 = time.time()\n",
    "# for iteration in range(1001):\n",
    "#     loss = train_step()\n",
    "#     if not (iteration % 200):\n",
    "#         print('mean squared loss at iteration {:4d} is {:5.4f}'.format(iteration, loss))\n",
    "        \n",
    "# pprint(model.variables)\n",
    "# print('time took: {} seconds'.format(time.time() - t0))"
   ]
  },
  {
   "cell_type": "markdown",
   "metadata": {},
   "source": [
    "Through subclassing `tf.keras.Model` , we get to use many methods from it, like print\n",
    "out a summary and the Keras model training/testing methods."
   ]
  },
  {
   "cell_type": "code",
   "execution_count": 15,
   "metadata": {},
   "outputs": [
    {
     "name": "stdout",
     "output_type": "stream",
     "text": [
      "Model: \"linear_regression_1\"\n",
      "_________________________________________________________________\n",
      "Layer (type)                 Output Shape              Param #   \n",
      "=================================================================\n",
      "Total params: 5\n",
      "Trainable params: 5\n",
      "Non-trainable params: 0\n",
      "_________________________________________________________________\n",
      "None\n",
      "[4.5830074668629095e-06, 0.0017235130071640015]\n"
     ]
    }
   ],
   "source": [
    "print(model.summary())\n",
    "model.compile(loss='mse', metrics=['mae'])\n",
    "print(model.evaluate(x, y, verbose=-1))    "
   ]
  },
  {
   "cell_type": "code",
   "execution_count": 29,
   "metadata": {},
   "outputs": [
    {
     "data": {
      "text/plain": [
       "<tf.Tensor: shape=(), dtype=float32, numpy=4.5830075e-06>"
      ]
     },
     "execution_count": 29,
     "metadata": {},
     "output_type": "execute_result"
    }
   ],
   "source": [
    "## MSE\n",
    "# tf.reduce_mean(tf.keras.losses.MSE(model(x),y))\n",
    "tf.reduce_mean(tf.square(model(x) - y))"
   ]
  },
  {
   "cell_type": "code",
   "execution_count": 30,
   "metadata": {},
   "outputs": [
    {
     "data": {
      "text/plain": [
       "<tf.Tensor: shape=(), dtype=float32, numpy=0.001723513>"
      ]
     },
     "execution_count": 30,
     "metadata": {},
     "output_type": "execute_result"
    }
   ],
   "source": [
    "## MAE\n",
    "tf.reduce_mean(tf.math.abs(model(x) - y))"
   ]
  },
  {
   "cell_type": "markdown",
   "metadata": {},
   "source": [
    "Let's also try using the `.fit` API to train our linear regression model."
   ]
  },
  {
   "cell_type": "code",
   "execution_count": 31,
   "metadata": {},
   "outputs": [
    {
     "name": "stdout",
     "output_type": "stream",
     "text": [
      "[18.954912185668945,\n",
      " 0.02976365201175213,\n",
      " 0.0010764360195025802,\n",
      " 3.935765562346205e-05,\n",
      " 1.450204877073702e-06,\n",
      " 5.471034825177412e-08]\n",
      "[<tf.Variable 'Variable:0' shape=(5, 1) dtype=float32, numpy=\n",
      "array([[5.6911039e-04],\n",
      "       [1.0001738e+00],\n",
      "       [1.9999688e+00],\n",
      "       [2.9999278e+00],\n",
      "       [3.9994378e+00]], dtype=float32)>]\n",
      "Time took: 0.8120768070220947 seconds\n"
     ]
    }
   ],
   "source": [
    "model = LinearRegression(5)\n",
    "model.compile(optimizer='SGD', loss='mse')\n",
    "model.optimizer.lr.assign(.05)\n",
    "t0 = time.time()\n",
    "history = model.fit(x, y, epochs=1001, verbose=0)\n",
    "pprint(history.history['loss'][::200])\n",
    "pprint(model.variables)\n",
    "print('Time took: {} seconds'.format(time.time() - t0))"
   ]
  },
  {
   "cell_type": "markdown",
   "metadata": {},
   "source": [
    "Not surprisingly we recovered the ground truth, but it took significantly more time\n",
    "compared to our custom training loop, it is probably due to the convenient `.fit` API is\n",
    "doing a bunch more stuff than updating parameters.\n",
    "\n",
    "#### Trial 3: Define this linear regression model using class as subclass from tf.keras.Model\n",
    "\n",
    "Now, let's spice up the model a bit by adding a additional useless bias term and initialize it\n",
    "with a large value. Ideally, after training, this bias term would become an insignificantly\n",
    "small number."
   ]
  },
  {
   "cell_type": "code",
   "execution_count": 39,
   "metadata": {},
   "outputs": [
    {
     "name": "stdout",
     "output_type": "stream",
     "text": [
      "[<tf.Variable 'Variable:0' shape=(5, 1) dtype=float32, numpy=\n",
      "array([[-2.8140063],\n",
      "       [-4.8734136],\n",
      "       [-2.0642996],\n",
      "       [-1.3286525],\n",
      "       [ 2.171379 ]], dtype=float32)>,\n",
      " <tf.Variable 'Variable:0' shape=(1,) dtype=float32, numpy=array([9.778882], dtype=float32)>]\n"
     ]
    }
   ],
   "source": [
    "### Ax + c = b \n",
    "class LinearRegressionV2(tf.keras.Model):\n",
    "    def __init__(self, num_parameters, **kwargs):\n",
    "        super().__init__(**kwargs)\n",
    "        self._weights = tf.Variable(tf.random.uniform((num_parameters,1)), dtype=tf.float32)\n",
    "        self._bias = tf.Variable([100], dtype=tf.float32)\n",
    "    \n",
    "    @tf.function\n",
    "    def call(self, x):\n",
    "        return tf.linalg.matmul(x, self._weights) + self._bias\n",
    "    \n",
    "model = LinearRegressionV2(5)\n",
    "@tf.function\n",
    "def train_step():\n",
    "    with tf.GradientTape() as tape:\n",
    "        y_hat = model(x)      ##here is the key!!!\n",
    "        loss = tf.reduce_mean(tf.square(y - y_hat))\n",
    "    gradients = tape.gradient(loss, model.variables)\n",
    "    for g, v in zip(gradients, model.variables):      #if use the above way to update variables, error; see below\n",
    "        v.assign_add(tf.constant([-0.05], dtype=tf.float32) * g)\n",
    "    return loss\n",
    "\n",
    "t0 = time.time()\n",
    "for iteration in range(1001):\n",
    "    loss = train_step()\n",
    "\n",
    "pprint(model.variables)"
   ]
  },
  {
   "cell_type": "markdown",
   "metadata": {},
   "source": [
    "Hmm, something is very wrong, the bias term is not updated at all. Guess where might be\n",
    "the problem? It's in the `train_step` function. Since the input signature has not\n",
    "changed(there is none), the function is been lazy and did not realize it should do a\n",
    "retracing. Thus it is training with the old graph, in which the bias term simply does not\n",
    "exist!\n",
    "\n",
    "#### Trial 4: Define this linear regression model using class as subclass from tf.keras.Model\n",
    "\n",
    "To address this issue, we can make `model` as an input to `train_step`, so that when\n",
    "the function is invoked with a different model it will create or grab a graph accordingly."
   ]
  },
  {
   "cell_type": "code",
   "execution_count": 51,
   "metadata": {},
   "outputs": [
    {
     "name": "stdout",
     "output_type": "stream",
     "text": [
      "[<tf.Variable 'Variable:0' shape=(5, 1) dtype=float32, numpy=\n",
      "array([[-8.0306112e-04],\n",
      "       [ 1.0025039e+00],\n",
      "       [ 2.0000150e+00],\n",
      "       [ 3.0011511e+00],\n",
      "       [ 3.9972730e+00]], dtype=float32)>]\n",
      "[<tf.Variable 'Variable:0' shape=(5, 1) dtype=float32, numpy=\n",
      "array([[-2.6643013e-03],\n",
      "       [ 9.9406248e-01],\n",
      "       [ 1.9960064e+00],\n",
      "       [ 2.9956589e+00],\n",
      "       [ 3.9983623e+00]], dtype=float32)>,\n",
      " <tf.Variable 'Variable:0' shape=(1,) dtype=float32, numpy=array([0.0096044], dtype=float32)>]\n",
      "2\n"
     ]
    }
   ],
   "source": [
    "@tf.function\n",
    "def train_step(model):\n",
    "    with tf.GradientTape() as tape:\n",
    "        y_hat = model(x)\n",
    "        loss = tf.reduce_mean(tf.square(y - y_hat))\n",
    "    gradients = tape.gradient(loss, model.variables)\n",
    "    for g, v in zip(gradients, model.variables):\n",
    "        v.assign_add(tf.constant([-0.05], dtype=tf.float32) * g)\n",
    "    return loss\n",
    "\n",
    "model = LinearRegression(5)     #Ax=b\n",
    "for iteration in range(1001):\n",
    "    loss = train_step(model)\n",
    "pprint(model.variables)\n",
    "\n",
    "model = LinearRegressionV2(5)    #Ax+c=b\n",
    "for iteration in range(5001):\n",
    "    loss = train_step(model)\n",
    "pprint(model.variables)\n",
    "\n",
    "print(train_step._get_tracing_count())"
   ]
  },
  {
   "cell_type": "markdown",
   "metadata": {},
   "source": [
    "### Layers"
   ]
  },
  {
   "cell_type": "markdown",
   "metadata": {},
   "source": [
    "We typically use the Model class for the overall model architecture, that is how may\n",
    "combine many smaller computational units to do the job. It is ok to code up small units\n",
    "with `tf.keras.Model` and then combine them, but since we won't really need many of\n",
    "the model specific functionalities with these smaller building blocks(for example, its\n",
    "unlikely we would ever want to call the .fit method on a unit). It is better to use the\n",
    "`tf.keras.layers.Layer` class. Actually, the Model class is a wrapper over the Layer\n",
    "class.\n",
    "\n",
    "Lets say that we want to 'upgrade' the linear regression model to be a composition of a\n",
    "few linear transformations. We can code up the linear transformation as a Layer class and\n",
    "then just combine a bunch of its instances of it them in one model."
   ]
  },
  {
   "cell_type": "markdown",
   "metadata": {},
   "source": [
    "#### Trial 1: Define the linear regression model using class as subclass from tf.keras.layers.Layer\n",
    "\n",
    "Define repeated linear regression (All above is just 1 single linear regression)\n",
    "\n",
    "Note: In trial 1, we need to specify the input, output shape for each linear regression"
   ]
  },
  {
   "cell_type": "code",
   "execution_count": 53,
   "metadata": {},
   "outputs": [],
   "source": [
    "class Linear(tf.keras.layers.Layer):\n",
    "    def __init__(self, num_inputs, num_outputs, **kwargs):\n",
    "        super().__init__(**kwargs)\n",
    "        self._weights = tf.Variable(tf.random.uniform((num_inputs, num_outputs)), dtype=tf.float32)\n",
    "    \n",
    "    @tf.function\n",
    "    def call(self, x):\n",
    "        return tf.linalg.matmul(x, self._weights)\n",
    "\n",
    "class Regression(tf.keras.Model):\n",
    "    def __init__(self, num_inputs_per_layer, num_outputs_per_layer, **kwargs):\n",
    "        super().__init__(**kwargs)\n",
    "        self._layers = [Linear(num_inputs, num_outputs) for (num_inputs, num_outputs) in zip(num_inputs_per_layer, num_outputs_per_layer)]\n",
    "    \n",
    "    @tf.function\n",
    "    def call(self, x):\n",
    "        for layer in self._layers:\n",
    "            x = layer(x)\n",
    "        return x"
   ]
  },
  {
   "cell_type": "markdown",
   "metadata": {},
   "source": [
    "In `Linear` class definition above, we swapped the super class and generalized it with\n",
    "the option to specify output size. In the `Regression` model class, we have the option to\n",
    "use <font color=red> one or a chain of this Linear layers</font>. One obvious benefit with this set up, is that we\n",
    "now separated the concern of how individual computing units should work and the overall\n",
    "architecture design of the model. We use Layer to handle the first, and use Model to\n",
    "tackle the latter.\n",
    "\n",
    "Let's see if the model is trainable."
   ]
  },
  {
   "cell_type": "code",
   "execution_count": 54,
   "metadata": {},
   "outputs": [
    {
     "name": "stdout",
     "output_type": "stream",
     "text": [
      "Mean absolute error is:  1.2591481e-06\n"
     ]
    }
   ],
   "source": [
    "model = Regression([5, 3], [3, 1])\n",
    "for iteration in range(1001):\n",
    "    loss = train_step(model)    #x,y are in train_step\n",
    "print('Mean absolute error is: ', tf.reduce_mean(tf.abs(y - model(x))).numpy())"
   ]
  },
  {
   "cell_type": "code",
   "execution_count": 59,
   "metadata": {},
   "outputs": [
    {
     "data": {
      "text/plain": [
       "[array([[ 0.37866265, -0.01718613, -0.1357575 ],\n",
       "        [ 0.63600516,  0.05279344,  0.31817758],\n",
       "        [ 0.31306508,  0.25236115,  0.93384993],\n",
       "        [ 0.848499  ,  0.3870639 ,  1.2533945 ],\n",
       "        [ 0.55826724,  1.226812  ,  1.5695485 ]], dtype=float32),\n",
       " array([[0.65006894],\n",
       "        [0.76955056],\n",
       "        [1.7157797 ]], dtype=float32)]"
      ]
     },
     "execution_count": 59,
     "metadata": {},
     "output_type": "execute_result"
    }
   ],
   "source": [
    "model.get_weights()"
   ]
  },
  {
   "cell_type": "code",
   "execution_count": 58,
   "metadata": {},
   "outputs": [
    {
     "data": {
      "text/plain": [
       "[array([[ 0.37866265, -0.01718613, -0.1357575 ],\n",
       "        [ 0.63600516,  0.05279344,  0.31817758],\n",
       "        [ 0.31306508,  0.25236115,  0.93384993],\n",
       "        [ 0.848499  ,  0.3870639 ,  1.2533945 ],\n",
       "        [ 0.55826724,  1.226812  ,  1.5695485 ]], dtype=float32)]"
      ]
     },
     "execution_count": 58,
     "metadata": {},
     "output_type": "execute_result"
    }
   ],
   "source": [
    "model.layers[0].get_weights()"
   ]
  },
  {
   "cell_type": "markdown",
   "metadata": {},
   "source": [
    "One problem with this linear layer is that it needs the complete sizing information and\n",
    "allocates resources for all the variables upfront. Ideally, we want it to be a bit lazy, it\n",
    "should calculate variable sizes and occupy resources only when needed. To archive this,\n",
    "we implement the `build` method which will handle the variable initialization. The\n",
    "`build` method can be explicitly called, or it will be invoked automatically the first time\n",
    "there is data flow to it. With this, the constructor now only stores the hyperparameters for\n",
    "the layer.\n",
    "\n",
    "#### Trial 2: Define the linear regression model using class as subclass from tf.keras.layers.Layer\n",
    "\n",
    "Define repeated linear regression \n",
    "\n",
    "Note: In trial 2, we only need to specify the output shape for each linear regression"
   ]
  },
  {
   "cell_type": "code",
   "execution_count": 60,
   "metadata": {},
   "outputs": [
    {
     "name": "stdout",
     "output_type": "stream",
     "text": [
      "[]\n",
      "Mean absolute error is:  2.9111395\n",
      "[<tf.Variable 'linear_2/Variable:0' shape=(5, 3) dtype=float32, numpy=\n",
      "array([[-0.18512696,  0.37053937,  0.03198682],\n",
      "       [ 0.30532497,  0.07832876,  0.09844765],\n",
      "       [ 0.10485165,  0.1986344 ,  0.6662489 ],\n",
      "       [ 0.5690766 , -0.81485623,  0.43635607],\n",
      "       [ 0.33452773, -0.61480993,  1.0721676 ]], dtype=float32)>,\n",
      " <tf.Variable 'linear_3/Variable:0' shape=(3, 2) dtype=float32, numpy=\n",
      "array([[ 0.41160345, -0.7802119 ],\n",
      "       [ 0.29393652,  0.3423354 ],\n",
      "       [-0.71737754, -0.8620656 ]], dtype=float32)>,\n",
      " <tf.Variable 'linear_4/Variable:0' shape=(2, 1) dtype=float32, numpy=\n",
      "array([[-0.5296563],\n",
      "       [-1.1699201]], dtype=float32)>]\n"
     ]
    }
   ],
   "source": [
    "### Linear!!! Build!!!\n",
    "class Linear(tf.keras.layers.Layer):\n",
    "    def __init__(self, units, **kwargs):\n",
    "        super(Linear, self).__init__(**kwargs)\n",
    "        self.units = units\n",
    "        \n",
    "    def build(self, input_shape):\n",
    "        self._weights = self.add_weight(shape=(input_shape[-1], self.units))  #for the variable\n",
    "        super().build(input_shape)\n",
    "        \n",
    "    @tf.function\n",
    "    def call(self, x):\n",
    "        output = tf.linalg.matmul(x, self._weights)\n",
    "        return output\n",
    "\n",
    "class Regression(tf.keras.Model):\n",
    "    def __init__(self, units, **kwargs):\n",
    "        super().__init__(**kwargs)\n",
    "        self._layers = [Linear(unit) for unit in units]    #self._layers stores all the operations\n",
    "\n",
    "    @tf.function\n",
    "    def call(self, x):\n",
    "        for layer in self._layers:\n",
    "            x = layer(x)\n",
    "        return x\n",
    "\n",
    "model = Regression([3, 2, 1])  #num of output for each layer\n",
    "\n",
    "pprint(model.variables) # should be empty\n",
    "\n",
    "for iteration in range(1001):\n",
    "    loss = train_step(model)\n",
    "\n",
    "print('Mean absolute error is: ', tf.reduce_mean(tf.abs(y - model(x))).numpy())\n",
    "pprint(model.variables)"
   ]
  },
  {
   "cell_type": "markdown",
   "metadata": {},
   "source": [
    "Tensorflow has a lot of layer options, we will cover a sample of them in later application\n",
    "specific chapters. For now, we will just quickly see if the linear layer(called Dense ) from\n",
    "Tensorflow works the same.\n",
    "\n",
    "#### Trial 3: Define the linear regression model using Dense Layer"
   ]
  },
  {
   "cell_type": "code",
   "execution_count": 61,
   "metadata": {},
   "outputs": [
    {
     "name": "stdout",
     "output_type": "stream",
     "text": [
      "Mean absolute error is:  4.7280407\n",
      "[<tf.Variable 'dense/kernel:0' shape=(5, 3) dtype=float32, numpy=\n",
      "array([[ 0.04548058, -0.29876846, -0.48789525],\n",
      "       [ 0.14477429,  0.01200902, -0.2724674 ],\n",
      "       [-0.16175295,  0.45236146,  0.31300414],\n",
      "       [ 0.11724836,  0.45436904,  0.62382376],\n",
      "       [ 0.90286434,  0.3896694 ,  0.4262347 ]], dtype=float32)>,\n",
      " <tf.Variable 'dense_1/kernel:0' shape=(3, 2) dtype=float32, numpy=\n",
      "array([[ 0.26604038, -0.5214442 ],\n",
      "       [-0.745106  , -0.4471392 ],\n",
      "       [ 0.56456757, -0.38512182]], dtype=float32)>,\n",
      " <tf.Variable 'dense_2/kernel:0' shape=(2, 1) dtype=float32, numpy=\n",
      "array([[-0.05406497],\n",
      "       [-0.78460944]], dtype=float32)>]\n"
     ]
    }
   ],
   "source": [
    "class Regression(tf.keras.Model):\n",
    "    def __init__(self, units, **kwargs):\n",
    "        super().__init__(**kwargs)\n",
    "        self._layers = [tf.keras.layers.Dense(unit, use_bias=False) for unit in units] # the only change\n",
    "\n",
    "    @tf.function\n",
    "    def call(self, x):\n",
    "        for layer in self._layers:\n",
    "            x = layer(x)\n",
    "        return x\n",
    "\n",
    "model = Regression([3,2,1])\n",
    "for iteration in range(1001):\n",
    "    loss = train_step(model)\n",
    "    \n",
    "print('Mean absolute error is: ', tf.reduce_mean(tf.abs(y - model(x))).numpy())\n",
    "pprint(model.variables)"
   ]
  },
  {
   "cell_type": "markdown",
   "metadata": {},
   "source": [
    "### Activations"
   ]
  },
  {
   "cell_type": "markdown",
   "metadata": {},
   "source": [
    "So our newest model is a composition of two linear transformation, but the composition of\n",
    "two linear transformations is just another linear transformation."
   ]
  },
  {
   "cell_type": "code",
   "execution_count": 62,
   "metadata": {},
   "outputs": [
    {
     "name": "stdout",
     "output_type": "stream",
     "text": [
      "tf.Tensor(\n",
      "[[-0.23143438]\n",
      " [-0.01216887]\n",
      " [ 0.19809997]\n",
      " [ 0.39345315]\n",
      " [ 0.624593  ]], shape=(5, 1), dtype=float32)\n",
      "tf.Tensor(True, shape=(), dtype=bool)\n"
     ]
    }
   ],
   "source": [
    "reduced_model = reduce(tf.linalg.matmul, model.variables)  #apply tf.linalg.matmul to the elements in model.variables\n",
    "print(reduced_model)\n",
    "print(tf.reduce_all(tf.abs(model(x) - x @ reduced_model) < 1e-6))"
   ]
  },
  {
   "cell_type": "code",
   "execution_count": 63,
   "metadata": {},
   "outputs": [
    {
     "data": {
      "text/plain": [
       "<tf.Tensor: shape=(5, 1), dtype=float32, numpy=\n",
       "array([[-0.23143438],\n",
       "       [-0.01216887],\n",
       "       [ 0.19809997],\n",
       "       [ 0.39345315],\n",
       "       [ 0.624593  ]], dtype=float32)>"
      ]
     },
     "execution_count": 63,
     "metadata": {},
     "output_type": "execute_result"
    }
   ],
   "source": [
    "model.variables[0] @ model.variables[1] @ model.variables[2]"
   ]
  },
  {
   "cell_type": "markdown",
   "metadata": {},
   "source": [
    "Without anything interesting in between, this is just adding unnecessary complexity. The\n",
    "simplest thing to do is to add some non-linear in-place transformation to the intermediate\n",
    "results, and this is call activations.\n",
    "\n",
    "Let's **add activations as layers**."
   ]
  },
  {
   "cell_type": "code",
   "execution_count": 64,
   "metadata": {},
   "outputs": [
    {
     "name": "stdout",
     "output_type": "stream",
     "text": [
      "Mean absolute error is:  1.1175871e-06\n",
      "[<tf.Variable 'linear_5/Variable:0' shape=(5, 3) dtype=float32, numpy=\n",
      "array([[-6.2820163e-07, -3.8094613e-01, -3.3532697e-01],\n",
      "       [ 4.4989979e-01, -6.7443371e-01, -3.8297394e-01],\n",
      "       [ 8.9979744e-01, -8.6434031e-01,  3.5892844e-02],\n",
      "       [ 1.3496974e+00, -3.0281246e-02, -5.0892937e-01],\n",
      "       [ 1.7995927e+00, -2.7777743e-01,  6.9007158e-02]], dtype=float32)>,\n",
      " <tf.Variable 'linear_6/Variable:0' shape=(3, 1) dtype=float32, numpy=\n",
      "array([[ 2.2227228],\n",
      "       [-0.4953962],\n",
      "       [ 1.098761 ]], dtype=float32)>]\n",
      "tf.Tensor(\n",
      "[[-0.17972632]\n",
      " [ 0.9133176 ]\n",
      " [ 2.467629  ]\n",
      " [ 2.4558127 ]\n",
      " [ 4.213428  ]], shape=(5, 1), dtype=float32)\n",
      "tf.Tensor(False, shape=(), dtype=bool)\n"
     ]
    }
   ],
   "source": [
    "class ReLU(tf.keras.layers.Layer):\n",
    "    def __init__(self, **kwargs):\n",
    "        super().__init__(**kwargs)\n",
    "    \n",
    "    @tf.function\n",
    "    def call(self, x):\n",
    "        return tf.maximum(tf.constant(0, x.dtype), x)\n",
    "    \n",
    "class NeuralNetwork(tf.keras.Model):\n",
    "    def __init__(self, units, last_linear=True, **kwargs):     #last_linear: whether or not apply activation to the last output layer\n",
    "        super().__init__(**kwargs)\n",
    "        layers = []\n",
    "        n = len(units)    #number of layers in total\n",
    "        for i, unit in enumerate(units):\n",
    "            layers.append(Linear(unit))\n",
    "            if i < n - 1 or not last_linear:  #last_linear=False: apply activation to output layer\n",
    "                layers.append(ReLU())\n",
    "        self._layers = layers\n",
    "        \n",
    "    @tf.function\n",
    "    def call(self, x):\n",
    "        for layer in self._layers:\n",
    "            x = layer(x)\n",
    "        return x\n",
    "\n",
    "model = NeuralNetwork([3, 1])\n",
    "for iteration in range(1001):\n",
    "    loss = train_step(model)\n",
    "    \n",
    "print('Mean absolute error is: ', tf.reduce_mean(tf.abs(y - model(x))).numpy())\n",
    "pprint(model.variables)\n",
    "reduced_model = reduce(tf.linalg.matmul, model.variables)\n",
    "print(reduced_model)\n",
    "print(tf.reduce_any(tf.abs(model(x) - x @ reduced_model) < 1e-6))"
   ]
  },
  {
   "cell_type": "markdown",
   "metadata": {},
   "source": [
    "With our underline ground truth to be a simple linear model, the added non-linear\n",
    "activations is not really helpful, and in fact it made the optimization harder.\n",
    "\n",
    "Since activation functions usually follows immediately after linear transformations, we can\n",
    "fuse them together, so that the model code can be simpler."
   ]
  },
  {
   "cell_type": "code",
   "execution_count": 65,
   "metadata": {},
   "outputs": [
    {
     "name": "stdout",
     "output_type": "stream",
     "text": [
      "Mean absolute error is:  0.04327987\n",
      "[<tf.Variable 'linear_7/Variable:0' shape=(5, 3) dtype=float32, numpy=\n",
      "array([[ 0.19793922, -0.082941  ,  0.3436416 ],\n",
      "       [ 0.31054464,  0.14825837, -0.34439313],\n",
      "       [ 0.85285133,  0.5470691 , -0.13268518],\n",
      "       [ 1.4554257 ,  0.6286258 ,  0.0634411 ],\n",
      "       [ 1.6481082 , -0.47667718, -1.0370482 ]], dtype=float32)>,\n",
      " <tf.Variable 'linear_7/Variable:0' shape=(3,) dtype=float32, numpy=array([0.09033869, 0.69391346, 1.2568238 ], dtype=float32)>,\n",
      " <tf.Variable 'linear_8/Variable:0' shape=(3, 1) dtype=float32, numpy=\n",
      "array([[ 1.9302187],\n",
      "       [ 0.4248354],\n",
      "       [-0.9970594]], dtype=float32)>,\n",
      " <tf.Variable 'linear_8/Variable:0' shape=(1,) dtype=float32, numpy=array([0.8035747], dtype=float32)>]\n"
     ]
    }
   ],
   "source": [
    "class Linear(tf.keras.layers.Layer):\n",
    "    def __init__(self, units, use_bias=True, activation='linear', **kwargs):\n",
    "        super(Linear, self).__init__(**kwargs)\n",
    "        self.units = units        #the number of output for each layer\n",
    "        self.use_bias = use_bias  #add bias or not\n",
    "        self.activation = activation\n",
    "    \n",
    "    def build(self, input_shape):\n",
    "        self._weights = self.add_weight(shape=(input_shape[-1], self.units))\n",
    "        if self.use_bias:\n",
    "            self._bias = self.add_weight(shape=(self.units), initializer='ones')\n",
    "        super().build(input_shape)\n",
    "    \n",
    "    @tf.function\n",
    "    def call(self, x):\n",
    "        output = tf.linalg.matmul(x, self._weights)\n",
    "        if self.use_bias:\n",
    "            output += self._bias\n",
    "        if self.activation == 'relu':\n",
    "            output = tf.maximum(tf.constant(0, x.dtype), output)\n",
    "        return output\n",
    "\n",
    "class NeuralNetwork(tf.keras.Model):\n",
    "    def __init__(self, units, use_bias=True, last_linear=True, **kwargs):\n",
    "        super().__init__(**kwargs)\n",
    "        layers = [Linear(unit, use_bias, 'relu') for unit in units[:-1]]\n",
    "        layers.append(Linear(units[-1], use_bias, 'linear' if last_linear else 'relu'))   #operation for the output layer\n",
    "        self._layers = layers\n",
    "    \n",
    "    @tf.function\n",
    "    def call(self, x):\n",
    "        for layer in self._layers:\n",
    "            x = layer(x)\n",
    "        return x\n",
    "\n",
    "model = NeuralNetwork([3, 1]) #with bias, no activation on the output layer\n",
    "for iteration in range(1001):\n",
    "    loss = train_step(model)\n",
    "print('Mean absolute error is: ', tf.reduce_mean(tf.abs(y - model(x))).numpy())\n",
    "pprint(model.variables)"
   ]
  },
  {
   "cell_type": "markdown",
   "metadata": {},
   "source": [
    "### Fully Connected Networks"
   ]
  },
  {
   "cell_type": "markdown",
   "metadata": {},
   "source": [
    "With the code above, we just made a fully connected network, or historically called multi\n",
    "layer perceptron(with out any actual perceptron) as well as feed forward neural network.\n",
    "Its essentially a sequence of linear transformation with in-place non-linear activations\n",
    "sandwiched in between. We usually think of the initial layers as feature extractors that is\n",
    "performing some kind on implicit feature engineering and selection, and think of the last\n",
    "layer as a regressor or classifier per task.\n",
    "\n",
    "Note how we are using a list to host the layers and applying them sequentially in the call\n",
    "method. Lets quickly implement a quality of life improvement model class called\n",
    "`Sequential` to do this. It is pretty much a water down version of\n",
    "`tf.keras.Sequential`."
   ]
  },
  {
   "cell_type": "code",
   "execution_count": 78,
   "metadata": {},
   "outputs": [],
   "source": [
    "class Sequential(tf.keras.Model):\n",
    "    def __init__(self, layers, **kwargs):\n",
    "        super().__init__(**kwargs)\n",
    "        self._layers = layers\n",
    "        \n",
    "    @tf.function\n",
    "    def call(self, x):\n",
    "        for layer in self._layers:\n",
    "            x = layer(x)\n",
    "        return x\n",
    "\n",
    "class MLP(tf.keras.Model):\n",
    "    def __init__(self, num_hidden_units, num_targets, hidden_activation='relu', **kwargs):\n",
    "        super().__init__(**kwargs)\n",
    "        if type(num_hidden_units) is int: num_hidden_units = [num_hidden_units]\n",
    "        self.feature_extractor = Sequential([tf.keras.layers.Dense(unit, activation=hidden_activation) for unit in num_hidden_units])\n",
    "        self.last_linear = tf.keras.layers.Dense(num_targets, activation='linear')\n",
    "    \n",
    "    @tf.function\n",
    "    def call(self, x):\n",
    "        features = self.feature_extractor(x)\n",
    "        outputs = self.last_linear(features)\n",
    "        return outputs"
   ]
  },
  {
   "cell_type": "markdown",
   "metadata": {},
   "source": [
    "Let's try to apply our MLP model to a real regression problems: the boston housing\n",
    "dataset shipped with Tensorflow. The dataset is splitted into two sets, a training set and a\n",
    "testing set. We will train the model on training set only, but record the loss on both sets to\n",
    "see if the reduction in training set loss is inline with reduction in the unseen testing set."
   ]
  },
  {
   "cell_type": "code",
   "execution_count": 79,
   "metadata": {},
   "outputs": [
    {
     "name": "stdout",
     "output_type": "stream",
     "text": [
      "Downloading data from https://storage.googleapis.com/tensorflow/tf-keras-datasets/boston_housing.npz\n",
      "57344/57026 [==============================] - 0s 0us/step\n",
      "    iteration  training_loss  testing_loss\n",
      "95        960      84.622253     83.712585\n",
      "96        970      84.622261     83.712280\n",
      "97        980      84.622253     83.712013\n",
      "98        990      84.622253     83.711807\n",
      "99       1000      84.622261     83.711624\n"
     ]
    },
    {
     "data": {
      "image/png": "[encoded data removed]",
      "text/plain": [
       "<Figure size 432x288 with 1 Axes>"
      ]
     },
     "metadata": {
      "needs_background": "light"
     },
     "output_type": "display_data"
    }
   ],
   "source": [
    "(x_tr, y_tr), (x_te, y_te) = tf.keras.datasets.boston_housing.load_data()\n",
    "y_tr, y_te = map(lambda x: np.expand_dims(x, -1), (y_tr, y_te))\n",
    "x_tr, y_tr, x_te, y_te = map(lambda x: tf.cast(x, tf.float32), (x_tr,\n",
    "y_tr, x_te, y_te))\n",
    "\n",
    "@tf.function\n",
    "def train_step(model, x, y):\n",
    "    with tf.GradientTape() as tape:\n",
    "        loss = tf.reduce_mean(tf.square(y - model(x)))\n",
    "    gradients = tape.gradient(loss, model.variables)\n",
    "    for g, v in zip(gradients, model.variables):\n",
    "        v.assign_add(tf.constant([-0.01], dtype=tf.float32) * g)\n",
    "    return loss\n",
    "\n",
    "@tf.function\n",
    "def test_step(model, x, y):\n",
    "    return tf.reduce_mean(tf.square(y - model(x)))\n",
    "\n",
    "def train(model, n_epochs=1000, his_freq=10):\n",
    "    history = []\n",
    "    for iteration in range(1, n_epochs + 1):\n",
    "        tr_loss = train_step(model, x_tr, y_tr)\n",
    "        te_loss = test_step(model, x_te, y_te)\n",
    "        if not iteration % his_freq:\n",
    "            history.append({\n",
    "            'iteration': iteration,\\\n",
    "            'training_loss': tr_loss.numpy(),\\\n",
    "            'testing_loss': te_loss.numpy()\n",
    "            })\n",
    "    return model, pd.DataFrame(history)\n",
    "\n",
    "mlp, mlp_history = train(MLP(4, 1))\n",
    "pprint(mlp_history.tail())\n",
    "ax = mlp_history.plot(x='iteration', kind='line', logy=True)\n",
    "fig = ax.get_figure()\n",
    "# fig.savefig('ch3_plot_1.png')"
   ]
  },
  {
   "cell_type": "markdown",
   "metadata": {},
   "source": [
    "It may seem that our model has nicely converged. Since there is not much a discrepancy\n",
    "between training set and testing set performance. However if we look at the numbers\n",
    "more closely, they are pretty bad. A simple constant prediction have MSE around 83.\n",
    "What could go wrong? We will look at other optimizers in the next chapter."
   ]
  },
  {
   "cell_type": "code",
   "execution_count": 80,
   "metadata": {},
   "outputs": [
    {
     "name": "stdout",
     "output_type": "stream",
     "text": [
      "tf.Tensor(83.24384, shape=(), dtype=float32)\n"
     ]
    }
   ],
   "source": [
    "print(tf.reduce_mean(tf.square(y_te - tf.reduce_mean(y_te))))"
   ]
  },
  {
   "cell_type": "code",
   "execution_count": null,
   "metadata": {},
   "outputs": [],
   "source": []
  }
 ],
 "metadata": {
  "kernelspec": {
   "display_name": "Python 3",
   "language": "python",
   "name": "python3"
  },
  "language_info": {
   "codemirror_mode": {
    "name": "ipython",
    "version": 3
   },
   "file_extension": ".py",
   "mimetype": "text/x-python",
   "name": "python",
   "nbconvert_exporter": "python",
   "pygments_lexer": "ipython3",
   "version": "3.8.6"
  }
 },
 "nbformat": 4,
 "nbformat_minor": 4
}
